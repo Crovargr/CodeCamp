{
  "cells": [
    {
      "cell_type": "markdown",
      "metadata": {
        "id": "view-in-github",
        "colab_type": "text"
      },
      "source": [
        "<a href=\"https://colab.research.google.com/github/Crovargr/CodeCamp/blob/main/Data_Week_Giorno_2_Introduzione_a_Python_%5Blezione%5D.ipynb\" target=\"_parent\"><img src=\"https://colab.research.google.com/assets/colab-badge.svg\" alt=\"Open In Colab\"/></a>"
      ]
    },
    {
      "cell_type": "markdown",
      "id": "19e099ac-d9d4-4f97-9380-47d6a8ec0c4b",
      "metadata": {
        "id": "19e099ac-d9d4-4f97-9380-47d6a8ec0c4b"
      },
      "source": [
        "# Introduzione a Python\n",
        "\n",
        "Boolean Data Week | novembre 2024\n"
      ]
    },
    {
      "cell_type": "markdown",
      "source": [
        "![cover](https://crediblesoft.com/wp-content/uploads/2024/06/Leading-Python-Application-Development-Company-in-India.png)"
      ],
      "metadata": {
        "id": "sGnA72yAXgSQ"
      },
      "id": "sGnA72yAXgSQ"
    },
    {
      "cell_type": "markdown",
      "source": [
        "### Python 101"
      ],
      "metadata": {
        "id": "kxDR4SF0jMMc"
      },
      "id": "kxDR4SF0jMMc"
    },
    {
      "cell_type": "markdown",
      "source": [
        "Python è un linguaggio di programmazione che:\n",
        "\n",
        "\n",
        "*   è (relativamente) semplice da imparare\n",
        "*   è di facile lettura (grazie all'indentazione)\n",
        "*   è gratuito e open source\n",
        "*   può essere usato per diversi scopi, come lo sviluppo di un sito o di un'applicazione web, l'analisi dei dati, il machine learning e tanto altro\n",
        "*   è uno strumento in crescente richiesta\n",
        "*   ha una grande community di utenti e una ricca documentazione\n",
        "\n",
        "> 📚 Dai un'occhiata al [sito ufficiale](https://www.python.org/) del progetto Python e alla [pagina Wikipedia](https://en.wikipedia.org/wiki/Python_(programming_language)#Naming) dedicata per scoprire perché si chiama così."
      ],
      "metadata": {
        "id": "SVl5EIlw94cg"
      },
      "id": "SVl5EIlw94cg"
    },
    {
      "cell_type": "markdown",
      "source": [
        "#### Stringhe"
      ],
      "metadata": {
        "id": "Bzh7aYeRjSaQ"
      },
      "id": "Bzh7aYeRjSaQ"
    },
    {
      "cell_type": "markdown",
      "source": [
        "Questa qui sotto è una stringa, le stringhe sono sempre racchiuse tra apici (singoli o doppi, entrambi vanno bene):"
      ],
      "metadata": {
        "id": "ERQ1u16cMVFT"
      },
      "id": "ERQ1u16cMVFT"
    },
    {
      "cell_type": "code",
      "source": [
        "\"Hello Booleaner!\""
      ],
      "metadata": {
        "id": "yD9dpi98klv-"
      },
      "execution_count": null,
      "outputs": [],
      "id": "yD9dpi98klv-"
    },
    {
      "cell_type": "code",
      "source": [
        "# questo è un commento, non del codice\n",
        "# queste righe non verranno eseguite"
      ],
      "metadata": {
        "id": "mpkbyYKXk4tH"
      },
      "execution_count": null,
      "outputs": [],
      "id": "mpkbyYKXk4tH"
    },
    {
      "cell_type": "markdown",
      "source": [
        "Un numero può essere convertito in stringa usando la funzione `str()`:"
      ],
      "metadata": {
        "id": "UFXuYKJxMqxu"
      },
      "id": "UFXuYKJxMqxu"
    },
    {
      "cell_type": "code",
      "source": [
        "str(5)"
      ],
      "metadata": {
        "id": "IVAo5qyjqK7k"
      },
      "execution_count": null,
      "outputs": [],
      "id": "IVAo5qyjqK7k"
    },
    {
      "cell_type": "markdown",
      "source": [
        "È possibile concatenare più stringhe tra loro con l'operatore `+`:"
      ],
      "metadata": {
        "id": "OrjV9NXQM1eG"
      },
      "id": "OrjV9NXQM1eG"
    },
    {
      "cell_type": "code",
      "source": [
        "'il numero ' + str(10) + ' è maggiore di ' + '5'"
      ],
      "metadata": {
        "id": "hQLNDzTvqVna"
      },
      "execution_count": null,
      "outputs": [],
      "id": "hQLNDzTvqVna"
    },
    {
      "cell_type": "markdown",
      "source": [
        "Il seguente comando genererà un **errore**. *Dagli errori si impara*, a patto di leggerli! Ricordati di <font color='brown'>leggere sempre il testo di un errore</font>, spesso vi troverai informazioni utili per correggerlo!"
      ],
      "metadata": {
        "id": "e2FGLzr_lf42"
      },
      "id": "e2FGLzr_lf42"
    },
    {
      "cell_type": "code",
      "source": [
        "# questa riga genererà un errore\n",
        "'Scriviamo un'altra stringa'"
      ],
      "metadata": {
        "id": "oA2g-tizk71d"
      },
      "execution_count": null,
      "outputs": [],
      "id": "oA2g-tizk71d"
    },
    {
      "cell_type": "markdown",
      "source": [
        "In questo caso, l'errore è dovuto al fatto che l'apostrofo \"chiude\" il primo apice della stringa, lasciando fuori del testo (e un terzo apice solitario)."
      ],
      "metadata": {
        "id": "rPN6mfiUPPiN"
      },
      "id": "rPN6mfiUPPiN"
    },
    {
      "cell_type": "markdown",
      "source": [
        "Per risolvere questo problema, basta definire la stringa con un apice doppio:"
      ],
      "metadata": {
        "id": "MO86oTgQQT0w"
      },
      "id": "MO86oTgQQT0w"
    },
    {
      "cell_type": "code",
      "source": [
        "\"Scriviamo un'altra stringa\""
      ],
      "metadata": {
        "id": "F9QBFTcqlU6S"
      },
      "execution_count": null,
      "outputs": [],
      "id": "F9QBFTcqlU6S"
    },
    {
      "cell_type": "markdown",
      "source": [
        "Un altro metodo per risolvere il problema è usare il carattere speciale di \"escape\" `\\`:"
      ],
      "metadata": {
        "id": "3EPrimVQQkCx"
      },
      "id": "3EPrimVQQkCx"
    },
    {
      "cell_type": "code",
      "source": [
        "'Scriviamo un\\'altra stringa'"
      ],
      "metadata": {
        "id": "M-tIqnwmlj7V"
      },
      "execution_count": null,
      "outputs": [],
      "id": "M-tIqnwmlj7V"
    },
    {
      "cell_type": "markdown",
      "source": [
        "#### Numeri"
      ],
      "metadata": {
        "id": "SHvpZnb4ja38"
      },
      "id": "SHvpZnb4ja38"
    },
    {
      "cell_type": "markdown",
      "source": [
        "Python permette di specificare valori interi (1, 2, 3, ...):"
      ],
      "metadata": {
        "id": "X2w3lL5jSHe1"
      },
      "id": "X2w3lL5jSHe1"
    },
    {
      "cell_type": "code",
      "source": [
        "5"
      ],
      "metadata": {
        "id": "x2J0kvz4pTL_"
      },
      "execution_count": null,
      "outputs": [],
      "id": "x2J0kvz4pTL_"
    },
    {
      "cell_type": "markdown",
      "source": [
        "O anche valori reali, che in gergo vengono chiamati \"float\":"
      ],
      "metadata": {
        "id": "oE8_f55SSNp-"
      },
      "id": "oE8_f55SSNp-"
    },
    {
      "cell_type": "code",
      "source": [
        "3.14159"
      ],
      "metadata": {
        "id": "7ylxYOhZpY_t"
      },
      "execution_count": null,
      "outputs": [],
      "id": "7ylxYOhZpY_t"
    },
    {
      "cell_type": "markdown",
      "source": [
        "La funzione `type()` permette di verificare la \"tipologia\" di un qualsiasi oggetto:"
      ],
      "metadata": {
        "id": "d1PH_8KRaPAQ"
      },
      "id": "d1PH_8KRaPAQ"
    },
    {
      "cell_type": "code",
      "source": [
        "type(5)"
      ],
      "metadata": {
        "id": "h8dHHdeJpdJg"
      },
      "execution_count": null,
      "outputs": [],
      "id": "h8dHHdeJpdJg"
    },
    {
      "cell_type": "code",
      "source": [
        "type(5.0)"
      ],
      "metadata": {
        "id": "azPCeZ92prk7"
      },
      "execution_count": null,
      "outputs": [],
      "id": "azPCeZ92prk7"
    },
    {
      "cell_type": "markdown",
      "source": [
        "È possibile convertire un oggetto di tipo `int` in `float` e viceversa:"
      ],
      "metadata": {
        "id": "1Q4CHgXwakAA"
      },
      "id": "1Q4CHgXwakAA"
    },
    {
      "cell_type": "code",
      "source": [
        "int(5.0)"
      ],
      "metadata": {
        "id": "C63oFuc7rfWL"
      },
      "execution_count": null,
      "outputs": [],
      "id": "C63oFuc7rfWL"
    },
    {
      "cell_type": "code",
      "source": [
        "float(5)"
      ],
      "metadata": {
        "id": "WaAHEIGlrlNl"
      },
      "execution_count": null,
      "outputs": [],
      "id": "WaAHEIGlrlNl"
    },
    {
      "cell_type": "markdown",
      "source": [
        "È anche possibile convertire un numero salvato come stringa in un intero o float:  "
      ],
      "metadata": {
        "id": "20J5KG7csTWB"
      },
      "id": "20J5KG7csTWB"
    },
    {
      "cell_type": "code",
      "source": [
        "int(\"55\")"
      ],
      "metadata": {
        "id": "YXJEVvjWschM"
      },
      "id": "YXJEVvjWschM",
      "execution_count": null,
      "outputs": []
    },
    {
      "cell_type": "markdown",
      "source": [
        "#### Operatori Aritmetici\n",
        "\n",
        "In Python è possibile usare gli operatori aritmetici che tutti conosciamo, i quali verranno eseguiti nel loro naturale ordine di operazione:"
      ],
      "metadata": {
        "id": "93Qo5qHnj9TT"
      },
      "id": "93Qo5qHnj9TT"
    },
    {
      "cell_type": "code",
      "execution_count": null,
      "metadata": {
        "id": "q7-KXJ2OLAY4"
      },
      "outputs": [],
      "source": [
        "2+(5*8)"
      ],
      "id": "q7-KXJ2OLAY4"
    },
    {
      "cell_type": "code",
      "source": [
        "# elevamento al quadrato\n",
        "10**2"
      ],
      "metadata": {
        "id": "Nx-nE0kuXNTF"
      },
      "execution_count": null,
      "outputs": [],
      "id": "Nx-nE0kuXNTF"
    },
    {
      "cell_type": "code",
      "source": [
        "# il simbolo ** significa \"elevare alla potenza di\"\n",
        "81**0.5"
      ],
      "metadata": {
        "id": "xYK9mc-qcbZ-"
      },
      "execution_count": null,
      "outputs": [],
      "id": "xYK9mc-qcbZ-"
    },
    {
      "cell_type": "markdown",
      "source": [
        "Non è possibile concatenare stringhe e numeri (i numeri vanno prima convertiti in stringhe):"
      ],
      "metadata": {
        "id": "c1UD7E2waArv"
      },
      "id": "c1UD7E2waArv"
    },
    {
      "cell_type": "code",
      "source": [
        "# questa riga genererà un errore\n",
        "\"string\" + 3"
      ],
      "metadata": {
        "id": "XVTWN-eBdsKT"
      },
      "execution_count": null,
      "outputs": [],
      "id": "XVTWN-eBdsKT"
    },
    {
      "cell_type": "markdown",
      "source": [
        "Convertendo il numero 3 in stringa l'errore viene risolto. In questo caso abbiamo anche usato la funzione `print()` per stampare a schermo esplicitamente il risultato:"
      ],
      "metadata": {
        "id": "Lsvvf33_pzde"
      },
      "id": "Lsvvf33_pzde"
    },
    {
      "cell_type": "code",
      "source": [
        "# così funziona (e restituisce una stringa)\n",
        "print(\"string\", str(3))"
      ],
      "metadata": {
        "id": "qtMQ-5Rgd8FH"
      },
      "execution_count": null,
      "outputs": [],
      "id": "qtMQ-5Rgd8FH"
    },
    {
      "cell_type": "markdown",
      "source": [
        "> 📚 Dai un'occhiata a [questo articolo](https://realpython.com/python-data-types/) per approfondire le diverse tipologie di dati e le funzioni built-in di Python."
      ],
      "metadata": {
        "id": "VRJZiLagpR56"
      },
      "id": "VRJZiLagpR56"
    },
    {
      "cell_type": "markdown",
      "source": [
        "#### Operatori Booleani"
      ],
      "metadata": {
        "id": "T_ixYLFlR8Uf"
      },
      "id": "T_ixYLFlR8Uf"
    },
    {
      "cell_type": "markdown",
      "source": [
        "Un **oggetto booleano** può assumere solo valori `[TRUE, FALSE]` o `[1, 0]`, che rappresentano i due valori di verità della logica e dell'algebra booleana."
      ],
      "metadata": {
        "id": "gA3U_qMODOZ1"
      },
      "id": "gA3U_qMODOZ1"
    },
    {
      "cell_type": "markdown",
      "source": [
        "Nella programmazione, gli operatori di confronto e i valori booleani possono essere usati, tra le altre cose, per valutare la veridicità di un'affermazione. Vediamo alcuni esempi dove confrontiamo dei valori numerici:"
      ],
      "metadata": {
        "id": "1_8wPXYiSjSB"
      },
      "id": "1_8wPXYiSjSB"
    },
    {
      "cell_type": "code",
      "source": [
        "# operatore booleano: uguaglianza\n",
        "5 == 5.0"
      ],
      "metadata": {
        "id": "TmFUaE0Nrs7q"
      },
      "execution_count": null,
      "outputs": [],
      "id": "TmFUaE0Nrs7q"
    },
    {
      "cell_type": "code",
      "source": [
        "# operatore booleano: disuguaglianza (maggiore di)\n",
        "5 > 10"
      ],
      "metadata": {
        "id": "RO6ykRvdr1NL"
      },
      "execution_count": null,
      "outputs": [],
      "id": "RO6ykRvdr1NL"
    },
    {
      "cell_type": "code",
      "source": [
        "# operatore booleano: diverso da\n",
        "5 != 10"
      ],
      "metadata": {
        "id": "uXL003Tpr73f"
      },
      "execution_count": null,
      "outputs": [],
      "id": "uXL003Tpr73f"
    },
    {
      "cell_type": "markdown",
      "source": [
        "In Python un operatore booleano ha tipo di variabile `bool`:"
      ],
      "metadata": {
        "id": "tNAu9w_PTNV0"
      },
      "id": "tNAu9w_PTNV0"
    },
    {
      "cell_type": "code",
      "source": [
        "type(True)"
      ],
      "metadata": {
        "id": "azwtzNYisCxs"
      },
      "execution_count": null,
      "outputs": [],
      "id": "azwtzNYisCxs"
    },
    {
      "cell_type": "markdown",
      "source": [
        "Nell'algebra elementare, usiamo i numeri interi o reali e le classiche operazioni di addizione, sottrazione, ecc. Nell'**algebra booleana**, invece, usiamo i valori booleani e le operazioni `AND`, `OR` e `NOT`.\n",
        "\n",
        "<img src = https://www.ufpb.br/bsccen/contents/imagens/operadores-booleanos.png/@@images/image.png width = \"400\" >\n"
      ],
      "metadata": {
        "id": "-VMv9k4FToIR"
      },
      "id": "-VMv9k4FToIR"
    },
    {
      "cell_type": "code",
      "source": [
        "# AND --> è True quando tutte le condizioni sono soddisfatte (True)\n",
        "print('True and True:  ', True and True)\n",
        "print('True and False: ', True and False)\n",
        "print('False and False: ', False and False)"
      ],
      "metadata": {
        "id": "G_PMVPTW01Ti"
      },
      "execution_count": null,
      "outputs": [],
      "id": "G_PMVPTW01Ti"
    },
    {
      "cell_type": "code",
      "source": [
        "# OR --> è True quando almeno una condizione è soddisfatta (True)\n",
        "print('True or True:  ', True or True)\n",
        "print('True or False:  ', True or False)\n",
        "print('False or False:  ', False or False)"
      ],
      "metadata": {
        "id": "qMnS2LrLTuAP"
      },
      "id": "qMnS2LrLTuAP",
      "execution_count": null,
      "outputs": []
    },
    {
      "cell_type": "code",
      "source": [
        "# NOT  --> operatore di negazione\n",
        "print('not True:', not True)\n",
        "print('not False:', not False)\n",
        "print('False is not True:', False is not True)"
      ],
      "metadata": {
        "id": "4LlCRziFT3og"
      },
      "id": "4LlCRziFT3og",
      "execution_count": null,
      "outputs": []
    },
    {
      "cell_type": "markdown",
      "source": [
        "> 📚 Dai un'occhiata a [questo articolo](https://realpython.com/python-boolean/) per approfondire il tema degli operatori booleani."
      ],
      "metadata": {
        "id": "8_PPZnXfoXbR"
      },
      "id": "8_PPZnXfoXbR"
    },
    {
      "cell_type": "markdown",
      "source": [
        "#### Variabili e assegnazione\n",
        "\n",
        "È possibile creare una nuova variabile, che chiameremo `x`, e assegnarle un qualsiasi valore, diciamo 100:"
      ],
      "metadata": {
        "id": "IRVVLpeQkEYA"
      },
      "id": "IRVVLpeQkEYA"
    },
    {
      "cell_type": "code",
      "source": [
        "x = 100"
      ],
      "metadata": {
        "id": "uxHl1ML_eIY6"
      },
      "execution_count": null,
      "outputs": [],
      "id": "uxHl1ML_eIY6"
    },
    {
      "cell_type": "markdown",
      "source": [
        "Per vedere il contenuto della variabile `x`, possiamo usare la funzione `print()`:"
      ],
      "metadata": {
        "id": "r9JlbJY7ary6"
      },
      "id": "r9JlbJY7ary6"
    },
    {
      "cell_type": "code",
      "source": [
        "print(x)"
      ],
      "metadata": {
        "id": "JhxV-Y31ytmr"
      },
      "execution_count": null,
      "outputs": [],
      "id": "JhxV-Y31ytmr"
    },
    {
      "cell_type": "markdown",
      "source": [
        "Possiamo anche assegnare un nuovo valore alla stessa variabile `x`; in questo caso andremo a sovrascrivere il vecchio valore 100 con il nuovo valore 10:"
      ],
      "metadata": {
        "id": "XYlJxPBva3Wf"
      },
      "id": "XYlJxPBva3Wf"
    },
    {
      "cell_type": "code",
      "source": [
        "x = 10\n",
        "print(x)"
      ],
      "metadata": {
        "id": "YwRhJM2ryhiE"
      },
      "execution_count": null,
      "outputs": [],
      "id": "YwRhJM2ryhiE"
    },
    {
      "cell_type": "markdown",
      "source": [
        "La variabile che abbiamo creato può essere usata in vari modi, ad esempio all'interno di una concatenazione di stringhe o, se numerica, per effettuare delle operazioni aritmetiche:"
      ],
      "metadata": {
        "id": "YxEorfTGbGqf"
      },
      "id": "YxEorfTGbGqf"
    },
    {
      "cell_type": "code",
      "source": [
        "print('x è una variabile di tipo', type(x), 'e il suo valore è', x)"
      ],
      "metadata": {
        "id": "gFI-tGzVeYDc"
      },
      "execution_count": null,
      "outputs": [],
      "id": "gFI-tGzVeYDc"
    },
    {
      "cell_type": "code",
      "source": [
        "print(x + 5)   # addizione\n",
        "print(x - 50)  # sottrazione\n",
        "print(x*2)     # moltiplicazione\n",
        "print(x/2)     # divisione\n",
        "print(x**x)    # potenza\n",
        "print(x**0.5)  # radice"
      ],
      "metadata": {
        "id": "TSNsZdwsehA1"
      },
      "execution_count": null,
      "outputs": [],
      "id": "TSNsZdwsehA1"
    },
    {
      "cell_type": "markdown",
      "source": [
        "Python permette di assegnare più valori a più variabili sulla stessa riga usando la seguente notazione:"
      ],
      "metadata": {
        "id": "0i559-avR81t"
      },
      "id": "0i559-avR81t"
    },
    {
      "cell_type": "code",
      "source": [
        "a, b, c = 11, 22, 33"
      ],
      "metadata": {
        "id": "lpaTIBqtR8_b"
      },
      "execution_count": null,
      "outputs": [],
      "id": "lpaTIBqtR8_b"
    },
    {
      "cell_type": "code",
      "source": [
        "print(a)\n",
        "print(b)\n",
        "print(c)"
      ],
      "metadata": {
        "id": "RbYPFzyKSYUa"
      },
      "execution_count": null,
      "outputs": [],
      "id": "RbYPFzyKSYUa"
    },
    {
      "cell_type": "code",
      "source": [
        "print(a + b + c)\n",
        "print(a, b, c)"
      ],
      "metadata": {
        "id": "w-g9lVavScUu"
      },
      "execution_count": null,
      "outputs": [],
      "id": "w-g9lVavScUu"
    },
    {
      "cell_type": "code",
      "source": [
        "d = e = f = 'data'"
      ],
      "metadata": {
        "id": "1IzIpYbzSnFt"
      },
      "execution_count": null,
      "outputs": [],
      "id": "1IzIpYbzSnFt"
    },
    {
      "cell_type": "code",
      "source": [
        "print(d)\n",
        "print(e)\n",
        "print(f)"
      ],
      "metadata": {
        "id": "aExLDi27SylB"
      },
      "execution_count": null,
      "outputs": [],
      "id": "aExLDi27SylB"
    },
    {
      "cell_type": "code",
      "source": [
        "print(d + e + f)\n",
        "print(d, e, f)"
      ],
      "metadata": {
        "id": "s-MMe-jmS3RX"
      },
      "execution_count": null,
      "outputs": [],
      "id": "s-MMe-jmS3RX"
    },
    {
      "cell_type": "markdown",
      "source": [
        "L'operatore **modulo (%)** viene usato per ottenere il resto di una divisione.\n",
        "\n",
        "Ad esempio, la divisione 10/2 dà come risultato 5 con il resto di 0, quindi:\n"
      ],
      "metadata": {
        "id": "1TgtTe9Pvv6-"
      },
      "id": "1TgtTe9Pvv6-"
    },
    {
      "cell_type": "code",
      "source": [
        "10 % 2"
      ],
      "metadata": {
        "id": "PIut8pJfusDO"
      },
      "execution_count": null,
      "outputs": [],
      "id": "PIut8pJfusDO"
    },
    {
      "cell_type": "markdown",
      "source": [
        "Al contrario, la divisione 10/3 dà come risultato 3 con il resto di 1, quindi:"
      ],
      "metadata": {
        "id": "0euzk4ATcVEG"
      },
      "id": "0euzk4ATcVEG"
    },
    {
      "cell_type": "code",
      "source": [
        "10 % 3"
      ],
      "metadata": {
        "id": "4dKDdSQnutYd"
      },
      "execution_count": null,
      "outputs": [],
      "id": "4dKDdSQnutYd"
    },
    {
      "cell_type": "markdown",
      "source": [
        "Naturalmente, è possibile usare l'operatore modulo con una **variabile** numerica:"
      ],
      "metadata": {
        "id": "9D03kZyAchbH"
      },
      "id": "9D03kZyAchbH"
    },
    {
      "cell_type": "code",
      "source": [
        "x = 10\n",
        "print(x, 'diviso tre fa', int(x/3), 'con il resto di', x % 3)"
      ],
      "metadata": {
        "id": "0mng-ym2wub6"
      },
      "execution_count": null,
      "outputs": [],
      "id": "0mng-ym2wub6"
    },
    {
      "cell_type": "markdown",
      "source": [
        "#### Indicizzazione degli elementi"
      ],
      "metadata": {
        "id": "bXqD7zu4kOPl"
      },
      "id": "bXqD7zu4kOPl"
    },
    {
      "cell_type": "markdown",
      "source": [
        "Diversamente da altri liguaggi di programmazione, l'indicizzazione in Python parte da 0 (non da 1), il che significa che se vogliamo estrarre la prima lettera dalla stringa \"Boolean\", dobbiamo accedere all'elemento con indice 0.\n",
        "\n",
        "Per estrarre un elemento da un oggetto (come una stringa), possiamo usare l'operatore `[]`.\n",
        "\n",
        "![python-str-index.webp](data:image/webp;base64,UklGRt4mAABXRUJQVlA4INImAACw/ACdASomBMIBPlEokUajoqGhILK5GHAKCWdu/E85xcgbGFb/yf6uxn1+r/omwM85/GP8yunX3I8WawDzCPEvyL+6f0r8hveh/GPYB+Zv5n7gX6L/2v+Z/271QPZb5gP5//Xf95/ffYy/w39A/fT5AfqH/h/5z8AH8p/qH/k9nr+q+wb6Bf9A/wPq0/6z9sPgq/r3+X/8v+b+Br9av+31gHUn9Pv5d+MXgf/Yv7T+zX90/2fr7+PfOv17+0/tN/Y//N/qOgL1D5r/xz67/f/7L+0v+E/c777fuH9o/Hz+tfrJ7N/Mf+7/Ib8ZvsC/IP5Z/gf7n+zP5zcaZt37MeoL7W/UP9h/dvyk9JH+49B/sn/pPcA/kn9Q/2/r5/tP+B4t/4v/jf8b3AP5f/cf+b/j/zM+mj+o/83+p/NH29foX+R/8n+R+Av+Y/2b/n/4n2uf//7hP3P///ub/sv//w04Om5Nybk3JuTcm5Nybk3JuTcm5Nybk3JuTcm5Nybk3JuTcm5Nybk3JuTcm5Nybk3JuTcm5Nybk3JuTcm5Nybk3JuTcm5Nybk3JuTcm5Nybk3JuTcm5Nybk3JuTcm5Nybk3JuTcm5Nybk3JuTUmXoTprsETLIfPA8Er9Rw6bk3JuTcm5Nybk3JuTcm5Nybk3JuTcj44sfEBR4dqtrHVbnmV410m3FAZQd+qdjWtOg/Kuxog8hRpcpAGCp0vpzYkL/1ryuxIBf6OS+YwdEyQmmRi5nhF7pOuHTcm5Nybk3JuTcmr7r4XMcOm5NyPfXjRmEPp9CiDvwSosJg6d4EGjBDTaVUinelsSjIktFe7ZcQ3sq/OIcOHTcm5NRw/+o4dNybk3JuTcm5Hm25jIin42U1SdvlaJWiVolaEuhIsS4OiyVolaJWiVk5H4aectEDrCbALdcOm5Nybk3JuTcj/LSpM8+wOEmk64dNybk3JuTcm5Nybk1LVoRgRkFqOHTcm5Nybk3JuTcm5Nybk3JuTcm5Nybk3JuTcm5Nybk3JuTcm5Nybk3JuTcm5Nybk3JuTcm5Nybk3JuTcm5Nybk3JuTcm5NyP1TDT3Ay8WKjSKHN5LgWBxJvMpHGofCnZWZJ6Pn49XU42wzVpx+P9QzKRxqHwp2/uhsflDm8ykcagSH2xuJdDpJpOuHTcm5Nybkibi9+F9TaZMmXDpCZ4dNwQVnAda1ahjeEXBMm5Nybk3JuTcm5N3HBLC62AyhFCNm7x9a7LbcH2vdGRu9wleS+y/uu1bu2pReRhCSHZilqvcK4z2QTn8GOAOTS7dwcgTjXDvCiY1mSthlV/MoeLlEs3ZlNbsSUQl8xNETsVrZXUiXuk64dNybk3J480ziZm5Ngql+falj1LgPtRGoROkzRGEJ0NvXAOityDM/H7jx2F26UnA96KwBxjQyztWr+FpNpBGQNg6p2yyB1s/cj8tq5JpOuHTcm5Nybl60C0TOVQ+kJnh72kJnh72kJu2I06prUMc0NJkjFzPCL3SdcOm5NydWfMxMi6AkyRi5ngnQxuZ2vSlAM9HGGeHTb/ublD/7h03JuTcm5Nybk9EyHCyvDSKHN5lI40/NK/qqBmsZeLFRpE2J6/aF1jLxYqNIocp/e4bpwUjjUPhT8ciX8ILiD9LozWMvFiozpnxxF9gf9BnhF7pOuHR2Q2UG+SavhMRRxzjKqTcQ9mEcu/LWelKOh0m4h7MI5d+Ws9KMGJbjyLUQ7WxuHcIvdJ1w6anzbzxYZrJYB3OICJk1IXB197pmPQfFAUVSgROY1+Rok7D/NbJqJ0kj6BwX06qxCMgDrXl3bxtp0hYB+VtcOjjVt52HLaoojJqU1eegOtTt/JhzXh2q1Np7EkB1wZc+xMM5hEKDpuTcm5NybgAwaBg5w7lVPRK/ZdP0fXEoSq/fyWa90IG8EHvKm8q5krdGn6HQkj5AiY2XDo+Iv+Mfrh0f6fMIj5WNWTcj5EsaiHYOrNTaiNEWa6/kK2tu8lgHQHXDpuTcm5Nybk3JuTcm5Nybk3JuTcm5Nybk3JuTcm5Nybk3JuTcm5Nybk3JuTcm5Nybk3JuTcm5Nybk3JuTcm381eBsq7yBGNt2XLFImi4qTj48euyZ9xHrnYqanUdnBcbTOliyAUnQ9qPfq5GUte6LoaHZtoDpAAeBjI7b7EOHTUwYmSnT1e6TLdJrqlVWHjOBL3IBh/66+3+UzJDGfE8/TTMI+oF1w6bkfszH4nTaPkvjWuVljRZsmJVufd79wrSXYYIBL8mXf9wSb+hforUNae9RYl4WIkb5AaPww4BwuevoVWUb4lHuFdiZY1kTYizNAQtL7HPexf5VcsqsY9pBrw+9THgA+EzsjkVy5++zG5NNOmpzI8WzbJIRSiuOUgR38+6nBnwhoFSfKJNDRFxB+ys7gcxwa3fHREqR1lHRv14VQ6OEW41lw17bgPHawfHL1HBvrS2Lw+unhvCL3JQMFO/znTcwSYbWG4niUdE1dXZzGgJa05re3MPt061UkxYUB2KBw6bgksHTcBsmj1CTSZ430S90nXDpuTcm5Nybk3Jvh2Tcm5Nybk3JuTcm5Nybk3JuTcm5Nybk3JuTcm5Nybk3JuTcm5Nybk3JuTcm5Nybk3JuTcm5Nybk3JuTcm5Nybk3JuTcm5Nybk3JuTcm5Nybk3JuTcm5Nybk3JuTcm5Nybk3JuTcm5Nybk3JuTcm5NybkcAD+/oqQAAAAAAAAAAAO/6rgH0h18vVkoeEc4VpOwbo9zU0asxxtyv9lT8abnWJ3wT/BVr1MGMCYSjrRuS0T6LHZs3VD5E5Y5cn8GkgJeSIS7gO88XQT4wqXnQAAijqc6bc1IfK8OVe45eIgdwlroieckugowTG8kAD7JJwsu0IV7VTT/nFdbnJAn8Tow2X5LHmgAZK7Tgcz/DuPAVYE+pxvposkGtok1GLhJ0y3ZZ3sCcRuNDASf+anjB/cVACKHBprzaS5a4VdsxmMU58DEL3sKOlNk3Bzv2JzWlEznPuq7NfuMis65jbew5P6fRNBwIZyLH2axUc/geZ8TdRkS7Gu5MKMWh5G8wNuPFPOJMt/a1LNHwy6JmgYgwxKZ349c3PKH96bKPoHr8wyuHhu04Sol42iRHk31L7YOLG87GApiw9N8bYkVDzyc+p3WYiNbYKI0GelGT4eJt6vtXZLUmguP8EIEYnVNwdC/7Oam8IB5RZv1oZ81xYQGeMSDmOr+lZ8qxbgVhC2X17l3CUPGihd0S5DWTWHil1dtNvw6siBgmSBTdcAGrcST+y3R7GPgC8/j+SsHkHaojhEsMzwDEleu2Omzbt73bExZgKYhdGXUEOHfb2rw07oPhq+1JfEk23ITgWdktzjrYy5aLa/N22WG6gD3C8HZkQOIih0hqyQ0bAst0TUMXku3ijoba7hJYR+A4klrtsVW1Sc9BREZcKoyUV4ky90Ek9P9IPhPu442spdS1kOonFmrIXHmaXpxDESgEPUCde2W/KsdLfe0KxRvIIHBfiKVW3B+V/ses2pFFTUF8gRjn2qn5JisFpPpP7GD8DZ1NB1QdIisrK90UHLcO6OQHSnSzvU6kVBQEGTB+tA+SxeY5VBeSBcbDO9da5J72UXMABlKjCMcS22FqsikXu1OgI+2qUBcHERLMrnWVP89GshKT3IChbmm9Ir3vGYdh9Y3Hq8+N6FBgoP9iNhu2mrd09/DePHXgAtFS9V8yOsqkplbrnwD44sbGU43GP1dI/F1VBx1Vlk5fjVtaagT9sc2pSKfleWCJhQd01Py9j5jq4o0SX56bremAeXpEBBvQMHkVnxgUBenqf9hrLH5aGVS78MM0d2gXvkiFhMicHYocS7BxNUvf42y25ExPDKAW3uOdgT4E0RxAZBxQfvO3hyso/Ida8t0rU5ht6NVcSrCXgxwm3Tyy7oPiJi+LtBKFuruGmltZV1i9N3PDRefevAIGxratYnpzrrCoovanL+5hOVwH1WpHD03jmR9sqiaLw8f4C6vrrp2Wr0Jt3/uJs5RoYUq8vv+AH0n3h6jaAWCG1uJPN3uFW6R1uity0eYEooCyypyGREtQF3wY/ZIn2v3YWK6BL3b0Yi5nO/QiGlU1MIXHrgvGfBdq0OvLJ5cwSoavue86vxOSgEsUahXdZt8cAD5WM3EXmAzJFZ5TkRMuhZgDR2O4JnaxfeoTWC+ktI4ENw+vFh0P91mHQtzCTU3UmNblU+qBfcwphEQOpvBLxbDAAAfU4ElzE7s3DR/wlD577ixaLCRtTrfsU8GCTh0J7XXmD/eMT9IXqLbf6FTqQpEACgPffipsRjo6PA3gvZf5FUgwAJ5GVNZJ+Iz26Dw5k9cxPpa3jgJPJ0QzSXPIAAAAAAAABWFWRv2MXIE3IVYUr7M6ffQWW39eRm/9KM7QSOikWi3iE3R//uSaVvPAcDkz8Mw/DMPhmFdF/Auy0CzPDgKzw/MQSptQMcwo/SgbuGJHHcJKdizJiQeINMqmvaQUKbpm+C8Bvg3+EDy9cT9DP1x/Okvi7UPDSVeCWCQt/WuYr/mqgpRO43vNH7BzMRH/uhSgrL3994nyIpyv0rzLN2AfBtxdvfgrtIRFF53/1RofVBAl9mdXTAt6aWJ81FxJLj4klx8SS4+JJcfEktV3apK1oDzPaKTK9iZVklblkFZ3JeoyGO8betQnOtur40u3H8lyyDqeu94F4J8W3H2jOR95GM70C9PW4CA4+2QBA7gLApRAGiVqr2YNZYQXkFkLCj2KES/iwS758W+UMiybeT1ClUF6d/qtEw+QtdC3Bg7kE7zIWHagGRQeArm8CZiiJq+HaIrFiVl04dEGtCjzm1G1GZ+vuReqMOys/u5VhmBMM6e9qIbYXqc9jmPF3y3xeOLUDDBJpCuRH9PNxrqDVK+/bztq8o0856AScZYB9qCuMgk35y0SsmqqmIlp36kXfWgiZ8BUxe5SVpatbWm1RgN12/FYQ+I3++wt5obki2A+icCoxc9WW+VuTxuiLOGZhUxEuIZ3OskfB8AMn0E7+0+LkZxy2Vdn39FWkkqVoZCAQcdiJS5e+IrgRYP/v5qcg3r6D2hDv2c9LWV8EoCCFhtFaqVJVWMAYQa0ZDoUz2AsiUzdiNimUBPJFv6a/qJL8aV5Wnh9A6CJrE87+nBReVudNlvZ9PGL6dGf61nCkTwvG6t0v5pmmPnAaEFl+KhmPeNBuoLnI3Ir+Z7ih4ovra5Ci8q4cZy1fdIGg+5PXq5CyNC2ednzSkEotvJRLENKp8CHKOFwQvhpbCML6H9XxvJ2SPfbyLHzXoK4j0woTRGocW8GsTNuqgQAbtxUyQFg8IqUikapwXNfWVXh1njiiT2OqOOhveULNr2PzPYwg+XCbxefRwYPBU6B9hM7MwiV5WjiqydXYEQsHFSVsrPwIADsO4gsyYV8Ove5MD3kUPJp5lZOFElnLenXqozaJizwVQc6cS+18F7cwlMN/5vmDLdP0moLVtn45hsu/d8tkQCeSXK+fDV4b8yShV9tEtU1gYiLQD1A1IWutpMP1pAbkOM7wwvlRMyNOVSQCaS4i++x0WHVKGfD5/2ARKC+5efyedc2JMVC2xYDgW2NnXQ4iv3TKRoh3wduswEhFJJua4jIBS2J1KeNzDTdXM13Qfdp7vdtMoOEhphmsricA9jCTIHzOo3uiQNtBuc1wh113T8EM34IxT6FsRBz1VqARqjShPuwQB3u0xFcsuoaCXHFGDVpXNjmW9+F+ZC/f65kAZmzPCABLF0Cf4U+1kfCA44bAiC5u3hsOqyH9IRvMkMPhDupurS32nfpwo1q3etiZ03PhjyKUerDLD4s5sSTEjz4GwW1klgzCdbLhKGahCJMglKtZqxLurflxPbSVlPbs/ONxLGUIq19bL10GZL+hXKvxLwgl7l/sYSMxE35ufsJvoYnMKdid0xhiQMG/a8FH+tMvs6P10BrU+N0rUZyebdS2Mh2aaZtxkjRk4FGEUUI2dWTHXJE6oxFrebWZxJpxqsqyqON9esE4D4VRmd3rFtfJqqyH8biZjJJxax/n8IHGKuIqk9Yo/d5d9Zu47HB11zfRDiUNr5Ddb01T1SoyKxbq+FGbMJD8wDC2cGF+QRWmB5Xbz9caMvLBDSACqwlCAoq1o/qHxevo03xYCURhk7NNBngWPO4+uoefkWY5H3BxcdxC7VrE6yr3Fv5E517WXNvGc0zz5aa2QsyVcGFHAKlW9zdGz0ELd0otmDoKlJ4ndHQJ4cERlslPQLeu4hVU8hSIZHDK5X7lplBtnnvoZ5/oYWn52hKV12STTmFDF5dBSiuwgEdn3Tq4yGpPnAANMtt5EcMEhQxuD6Ov3wbcF4nocfJLUcgkA+8FjsRWK5mFgNI4YEObJFu6a3EGtumqiz/NozYKjUcsInIjqcGVpqvLyQLT9cIewUevXbT9J9FV5Dqxg5V2/+LeFJ4+ulzB9CeYC62G7n+eX0X39QFHdtEe5eHMO65Jw8AgIAEpC1mt7qGsjMhe5oYG53FXfCBnL5a+HAXwA/UOMfVgsfbAp+7yaH2t90WxsaSJU6/P4RUmWNAcJkxd5GRui0ZdwN7cpweuNk6dfv7lvOn6vkDJAG6U0r4W1+cOk7992LZX4T2I8AkCTDXfxy54RYPw91iHQ9/yHn7zKMnZM0FlnGbWYioFDWmtajaJUeQfDDF8dmu7JC47WwL9xww3XeG7V3SuNQYUCq9fQ7ghVzO5AlmJf/vzfETjVnT5b9w31e/VKZssVnn28BFuuItykhnWVPjy6ATYd+XmTWuLAzXAV3AUniQzQ3Z48NOWf2LQD3YBMZOn2xgpCuw09YHGFkzibG6rQg6JT9gMgaN9sZJhXZorVU1H8D5UZExjxPSeNYUY42K1WfojL1LfW56/LeNhULPgoRBNCVWJt2DFcq/zABBxEtHvuFvkUbbfCc4l/3WzGeKr38G8y3hrPphEBVw/Xh9Cntp6If8zSt2czkEYW8EOPnFtyzRX2A+kSOeBDW3MJveESG/YCqULGkLGHjBe1ROBbc/oQiAXRYUgkF8mCdVqAw3A1KzLpUI31bilpIb1LAXBbvmqCxGj64RUD9XbrqwqsIStU1Tul0aUXQ3xWVzWlepcJpacRWAbT+aZHb618PxLrM29M+B8Y1JaTQxSj+1nsT96Fb8tvDDTEVGkdtS22nRb7xOX8WK3z1drPajMUQSZ1N2FpzigLfy/qlalPGeybY6WDlgZCZeq3cu5DG6cMRsX2QhcqgJPVKeWVnGJu7ZTxlV1ZwG5xaZ+0aOEakF7KOOj1SVp+CICQ27UIInaD+xYrVPK2F0F39YMgzAxd0d31rrHi7lF/Udg64l0qAoBRpV3rv7lS+Fxsi9TIPYYUXa8I3jRL/UZdKglGLzlvzZo+IBK7WoYTPFeyB4ldmt1Zi/2It/9nfOmJcKLo62W0LkRtWuuiQgRIRJM+nDv1PKwTn0F8uVHHk+eCol5PSsjO55z2nbTlZybsIv0MZCP6f2nDV/j75bU5yrGec88555zy6EN1F+XCRtCMzMM9DhuUq34foTITnnnPPOeeVenCtv9p2noZS9//RzgIcGIan8Q/8CcydcAI5tYlpdn48Kl4VLwqXhUvCQApnllTDVp+FvO0cGyoo91waJwHO+rREOeoDYRkIOB/wbI3Ta9fBsjdCkAyTEDIJhx/hUr1xs+gGooOXL9nQrSkGtOT0lVqQWhdRyXn/e653odEZLn8lBTQq/9oxqAFA676P40fZrjtkTDVrSpzjTgfhUCDeCsfvpKjWALDkmpI7Zg8aBz1vGR+QV2JIemRdkEYJm9s2b5g4PFmhkNNdu1hTd913fGd913fGd913fGd913fGd913fGd913fGd913fGd913fGdYeawpu+M77ru+M74zvuu74zvuu6wDVt3m8Amu6uLXdk2ns3EDHqDnoMbWAWNpw3b5e3kobs9EBqbPX2hQBBH0CfmWqiecEd5dbAyqQz9Hj/+N/CtBQiJnpp1bgUM9atQ+Fy608gm61xwS4F/HgY2X2vZqthfqUqwgpOV91am6UkMLX/64zazvw6EBbsjrxu3+SKeCRdqtHT9m/al0mmi+0aMCPHqkWDhGC6yTmSNHfE1gq0qUiDiYmvxJCvTdVHHAwb+Ob9KITXvTZDCgu1rBfPHVeqJvuLdscAv2cOdw6FRrAPq3UMdKPddpYsaGyf1LvZWAEeFpch43GY1Ehq1F3VLfOqXSyCitTL5Q1C4E4NOcdbhkcjZMhBNU24aRbumvDDckBbl+kaMBzeSpIBJWJw+Kr0BmaKxm/3w7p38lPHmuzri/E1p/GqAzt+Cba/r7AwMoOFjZDV0rEyoMJuFjWapxBWcYaz0+jlERtjhBLTqKaPjU+uUy8nZDN4wFiNQO81VeqPq0sD/Odcpqbhgz+Fic0pQ/4sKIkAOc3Go2Ofh8yXuVT2cyt0hnMGNhRGqbq2wtNBAxN5pOsgnDeIbOa3VPGMMZZVVV0KFROF2N2OiB+otF+dkVUIUk5ooe33zWIkfkQo+TSpxQj14toaUo6kWsnvSJW300wdZqQznLe0LDH7W6p8OUtbW7kHSSuTIWaepNdaAkPAouuI1OPlT6PyGZTllVp7hP60yFb3/kuAodNPh0QbXJVwJ3Q5RnkCfVExjN/PhjSlT7apsakoNJTKrEIgABf8z87ZUjll4tQ9kmO2bxmWiLsQ1m2wb0Yhr9q54+Tk6gS1QnhowW4xBcLo07mxZiO2hmqdzNzi/H+jU8/fXr4iLqUJNSFxojV9q+Dob4qI+7LEGjp/96BQAAicCsEU26XUX6oIsBVOChXUMaaeEMAR4F70bar9xcX8371h9Cp2fJApzPYkxDqUQPZTdanJ4qyi5uT7Uya1Ya4IJ7BNuhfvPps5Hla1Ps8cKXQhiU8aBEfnyKPSzh1C7anL2GAeAF0kKHZyelAADjO+kp+e9Lv68BBNtc3ft0iege0cxCwZR6G4Iy3qWaYIojqgPL29is0K0FhPis9zDQoXepxudVQURsfs+zA+eg0ADDIBKD2FZnpnIR/IJvJc0McuJdxmrJfA40WAq2sm9gOarKxOu5bWzc2//17OdLQwdvlyvBE3MUHY82tisuSnUfbP9CHcKDGJhC7UOX1kGcf13W+EAtZo8mf6wYiyXWfke5TdRsCtDAiiIbwCKXe5dEPAOqzp2mpU6oIvvYl9raFPoQyDdRs18+gb88lyfMHmfAPC3141HIZY86EPb/5PmfOwu0l0/Z3/oyaVHLd7seC2TU6U8MvEY681Fx9HclKLB8g7FCD0WBblfSiVkPu559lCYz32H1tz0tdh43mSwdYHNZe3SYXmHvbjaw73fZmGUOls077NuECO3P6aVGbLYvajG5RUgKlkzE3kAkFw47GFKbQ9mhoS1S/gHxkyBsVQe/jh8JHYoDaLY8KJTQiBgm4h0bVT8DaSG/83SaqFhFEgWwZ+3IfGP/+nQwKN5OrXZytBeFtJbprjVWWrDSOSiz326suBlG2+VTpr5n7aJnmlpj8s7XWsWZlo7/DP9ChcV3uhv62EiCQiR3v6uiXsGGcd0F+/ugoPu4TVJk7f64SxGrg7Ey8nFgEShX0Vkc1kNfmK3V1MUhnh+llVKB03SNyX34wFtoQJWZUhHk03Gf7dBe+xwZPggtj9QfAyPlfvTsWVbEG8mFOM/HcoGLTIzFLCANH0fS0QOoBtgG6pVyzSj/mdBO0Hp242p2P0OWT+I5Bqh0953lgmnl0D4V50ieTN5shAl3F2e3X/5kbULgWbJAGJe/d10zyIBzUJsBpmngXfaED7vrBKQeTOFFovuss2oRpejoryuaQcISbmOvbR0cRmgPeC6AAAAAAAABAqLGMg+MJ9XmcHSlr4V5gi8Om0EVFmY02clKk9p9tCIIFhS3rHbZDwbHCLcv6+qaLDYB2E1F3h3tVOlPfScA3UmQB0BytkapTtJqR3ny+KswnuJ0LBWMB9PBPC5Y8qndRaxhLiPhqmcIBAEqkTmY/PyRJP7THq3ItdkNsW6KHArsrWq839Fh1bg7JNDGsty/W4uW22FbZZCvLAaEjaTc53lS09mHkd2VlefUdiaoQCtQCH4Qa2ocgPW9vQ48fsFk8WtHjwxZtWGvO/K4bjNeG5vKYME7uQYKG/IPXE1J+HX9qOVIn7zU5BNHjgOtV3eK+hDkIygCmL4cqjfbXAZ3s0ICQlnbOx7dAAz1sMzeYdK2P4QMAXTGMSA9mUzmaNUureknGCzU/qId7S4krnL+pR+P27a8vNfikNXxuZRQLtmMbgzCDuux7Q4FVjvRx+gvRS2UecXwDH6LXWbQ1rQcXz3jKeqF4VbMOb8mznx6LUkqfbD+WKMz/x7KYnIrbC2OyUSfc40OETZSIh0tdkxTBaXV6xde3vfRAtrMFig6IbRbsvg0d8XwR1iggM04f1LCVED9fpHEEo0ewAQgwYG2DlryIA9EgPZlM5nAq0tqRUUFHspKi0Qxba/XX//UO7sH6l4X3umhMq05rVfxSc5Ms3V0yoVOSE2gwzyof3oOOwR3JeIsejvv3O0pRGQhDPjjsx4z0m+Y0IU8YFRVUuoZC/1g6kwmJ/nbZfra7TodVawrWkUl+YeIyqWHzgQfLdISyNtiCJZRdFSAvyVxrSg0tqqj/0FQh4l4Do0JOQaHHyJwsMnQg3boJqctF14AJewBxoJ6Omu32Jg/vSYD6s74SV8b8FCNwL23ac1x2XyN31CbkG/7p9vC/HB13gE2JkUwR3PIr+1W0WnTTE54RQuqITRvnF5PZcnvbRtLm5mrUtR4Ivz1p3WJ9RS9Ugr8+cYVpvXzREq50nn+6fv6iJ6nGHehmn6bJNtp3kKWI7aOojSC++Bi/KgZO+27sGl+CnGIYSlDRFWtBdIc3SBxemvgPXiKorj6xzeCMJH53A8N8xuGHD4tgoBO6rYhr62DPLLjjLU/Urw0lNLuraesvib+QeCMTNDKjkaf3zKdgCGuPbGdLp8YEQ2MBGqYlx/uoCb0YghQ1K+YCNFQcFXjPusPyfS02Nw7MGm8G48NAxjwbsJ88SCzmqrVHVfMzbCchJr+kj2yKYdvHAnyomquK5DJe+hxt2zbTfEqcJ8GR8d3DCGOs8BMvNQpjfgZhklT0rF+q1ofAzEptIvP5VvNiHK4cm2MvKrSR5Ole30TzCCo5HUaVx1ETntUag5+de+SdWCodxpGVfSPobdvQw7S2Bnsh12HWodOjGGbUmqasY70ayuX4/K/QmgWLzzZPRzojEBvnwi51VNMp/8Y/7YGlx3YE2E7Y005vSRN/uI2ImYNfLPaF+Fc9DSFJlNtRsFk7m6ATiizmB1Y4NyOXk/zMZef6zKpoqljyxj+KN3iti6hPSXq3pQjeM1Dr2PH5owlg/IDf58ISCAbgNFQJKNEt3DqMyIxkYFQls5M3C+j/bOMe5jut9+DPPwHNPCbT6fLFnDUJUG2bGg5NxRh1ukHhGq/rm8Kk5GzTEqLKRap9coZH46bMKWJzcMwIrTYF5/mqOsnkHu2MtMi9eVRersLQGu0wIxAIw4XySREH3jFxSbIGQHeBleYHhqb9mP28X5+vnd0MaLEvjm3dED8fmP5KyNRQPKc2s6A6XRLXJtCCw2zsE9rav9nZGJtDPWghDf3o3dl3uVWo6lJJez/rvYI3veV+UO4v4fE8V9Q7MpB2sSkzyLVQYzrU3zh3g5KwWmWIJaFy2C6ttLB8qMLJqwo0cX6K6HHoLXU/VDfaIaL5MDkH2IHVh/M29eMTKXysa5SZ54/YnJ9o7PxU9s5BsYF9mDJ/F4HzppUe4Rcsk+VI0xOGPIesB58uaEjB0qna8WFz9W6ysyB1j21DltK57qJNWzU5rc7zqNhQvWSQBI5A+0OjUQOHygC/pZcTaHe+bkorI/z7UDGjVa2p7aKKL2H3nhCwG3lFz0Ikykvj9H8yvcfGNQdhlKKzwTn8DPX+6Ztis+YF2QruYFT1Mc4poo/Bh8REVJH1Vggu1hbIEATJrV5exksF93hryh0j4AEPv7S/Jgb/axHgLsA36WS33K0Mgf3oBL/0P/mtMuGLlo6Y7im0EYdk97z1EErhP9m1RoXVIeV/HNJu1ckRuRvDMtcStYHDB/YluC7Yut0EtbhKpXWbu2p3zGyfzkIoG2PicqWVdIVztXnqlJ6kIZY3u6tRApfQeiYS+OTpAWzTWPG9VgbO/lLYD5ax1EMf7JXPLLRsguXpjMGT6PaeHuP5nUzq4VoKiUkgyXzGgTMGNRh0btCjoCAvgPvPvSws1ncRI3LPYFShOiDc7p8/5vPvyn9eC5kTjaPRWpIwP+WKs8b8Wf0ZDeNK6uAr+JuudUk9ORq+oQImksaCS45/g93IHdrC0qpV/DUCY9YVJAuOfR8F5uB1GiJ+uZ5rZxRqr/HsjiXvXcYLs4s0AsotfSiR+78G5+Hc9cnNfTZ49HOmULpIXeEDDptJ/MZNPLseRdM8s0qIaJEhPo0HO2CXyYXpNPsoDwCRH8i9iharpCcYEdbHHeGpVMNk0v0zTy6JXxfYPdYFrP0CsT+zQPwfGtkAQZycQKKc4Dqc/LuS6jQv6asJway0iPSvGWNn5znOyrLMEDMuzhNQtcDx/qbbwL0XNZjnEP89OVY/fA6whzp/fnqiOeMjywsems1NMlr661TIYNkH6LX//SwAd8nNgKKkhHBfXBYXCL99V8zK4oUC8pwlRFb75FJkqQaKC6gP5gEyKc5YrwYWIGD9MG2EYBFpt18XiCUcffjjiSHVqHsppoKrVeRYSy+Az8s+PRoWnoYJCPCVJPbkWu73ddVQk/SNIrlW7p9HmycUkDXJ/TmSHdNwiPB9R7qW/v/g/31XzMmw/5BFJ2BPN9ZaFAWbd83UpNU+cIbS3HLJu1zO38L/Lr5ziCHU4bgs5Tp2clUmwq5fXkSncU6O8lfEGSQHuTiIh0kh8gzrGseBcV/1eNFqwCh+E1qGlgpL8Mo06RM0NW8MXF3Z6alLtXANbOHaQaawfzt3/XMcIjXPllkq4HS/gB8zfjQ/T3xSe7IzVEfdqjHgsheNVw5l4rza3iWHY18W4DZozZfaQHWMTCF4pPBo6uj9sKIcdmLxi0/diswmuD4jIYxonL9e6373B3xI2Sq5j8WFl89CjiM6cZxkkkrZJxSPQJL5gApUa9d2lZucDp/2jBVnahEo84Cp1hs5kkBsC12MAv47gJiGy1+JtSv1cAHancfOfnx33AAAAAAAAAAAAAAAAAAAAA==)"
      ],
      "metadata": {
        "id": "xWson6OL28d9"
      },
      "id": "xWson6OL28d9"
    },
    {
      "cell_type": "markdown",
      "source": [
        "Quindi, per estrarre la prima lettera dalla stringa \"Boolean\" scriveremo:"
      ],
      "metadata": {
        "id": "FTRDq9sWdyNx"
      },
      "id": "FTRDq9sWdyNx"
    },
    {
      "cell_type": "code",
      "source": [
        "\"Boolean\"[0]"
      ],
      "metadata": {
        "id": "OZPMDfcLyT8q"
      },
      "execution_count": null,
      "outputs": [],
      "id": "OZPMDfcLyT8q"
    },
    {
      "cell_type": "markdown",
      "source": [
        "Per estrarre più elementi consecutivi possiamo usare l'operatore `:` per indicare il range di estrazione:"
      ],
      "metadata": {
        "id": "WEbtSzPod-Ur"
      },
      "id": "WEbtSzPod-Ur"
    },
    {
      "cell_type": "code",
      "source": [
        "\"Boolean\"[1:3]"
      ],
      "metadata": {
        "id": "EBt7cjHRz9I7"
      },
      "execution_count": null,
      "outputs": [],
      "id": "EBt7cjHRz9I7"
    },
    {
      "cell_type": "markdown",
      "source": [
        "☝ dall'esempio qua sopra, notiamo che il primo indice (1) è **incluso**, mentre il secondo indice (3) è escluso!"
      ],
      "metadata": {
        "id": "slt1sPifzRiq"
      },
      "id": "slt1sPifzRiq"
    },
    {
      "cell_type": "code",
      "source": [
        "\"Boolean\"[3:]"
      ],
      "metadata": {
        "id": "vUodMM99b8TZ"
      },
      "execution_count": null,
      "outputs": [],
      "id": "vUodMM99b8TZ"
    },
    {
      "cell_type": "code",
      "source": [
        "\"Boolean\"[:3]"
      ],
      "metadata": {
        "id": "tpl1FOWIcKcw"
      },
      "execution_count": null,
      "outputs": [],
      "id": "tpl1FOWIcKcw"
    },
    {
      "cell_type": "markdown",
      "source": [
        "È possibile usare un **indice negativo** per estrarre gli elementi a partire dalla fine:"
      ],
      "metadata": {
        "id": "bU3LEp3Mem-4"
      },
      "id": "bU3LEp3Mem-4"
    },
    {
      "cell_type": "code",
      "source": [
        "\"Boolean\"[-1]"
      ],
      "metadata": {
        "id": "W8SINm5xqx_m"
      },
      "execution_count": null,
      "outputs": [],
      "id": "W8SINm5xqx_m"
    },
    {
      "cell_type": "code",
      "source": [
        "\"Boolean\"[:-3]"
      ],
      "metadata": {
        "id": "QRcWqaO1vNKC"
      },
      "id": "QRcWqaO1vNKC",
      "execution_count": null,
      "outputs": []
    },
    {
      "cell_type": "code",
      "source": [
        "\"Boolean\"[-3:]"
      ],
      "metadata": {
        "id": "gZS-BJO-DBLW"
      },
      "id": "gZS-BJO-DBLW",
      "execution_count": null,
      "outputs": []
    },
    {
      "cell_type": "markdown",
      "source": [
        "#### La funzione input()\n",
        "\n",
        "La funzione `input()` permette di interagire direttamente con l'utente, permettendogli di inserire un certo valore (numerico o stringa) che poi potrà essere usato dal nostro programma. Ad esempio:"
      ],
      "metadata": {
        "id": "PvzIH39s0pP2"
      },
      "id": "PvzIH39s0pP2"
    },
    {
      "cell_type": "code",
      "source": [
        "input()"
      ],
      "metadata": {
        "id": "YGezLy051D4A"
      },
      "id": "YGezLy051D4A",
      "execution_count": null,
      "outputs": []
    },
    {
      "cell_type": "markdown",
      "source": [
        "Possiamo anche decidere di salvare in una nuova variabile l'input che è stato inserito:"
      ],
      "metadata": {
        "id": "Z1PekaFo1Myi"
      },
      "id": "Z1PekaFo1Myi"
    },
    {
      "cell_type": "code",
      "source": [
        "nome = input(\"Come ti chiami? \")\n",
        "print(f\"Il tuo nome è {nome}\")"
      ],
      "metadata": {
        "id": "LKwl_3HW1Yig"
      },
      "id": "LKwl_3HW1Yig",
      "execution_count": null,
      "outputs": []
    },
    {
      "cell_type": "markdown",
      "source": [
        "> ☝️ Avrai notato che nell'ultima funzione `print()` c'è:\n",
        "- una `f` prima della stringa da stampare a schermo\n",
        "- e l'oggetto `nome` è racchiuso in parentesi graffe `{}`\n",
        "\n",
        "> 💡 Questo modo di formattare le stringhe è noto con il nome di **f-strings** ed è un metodo veloce, comodo e leggibile di formattare le stringhe che è stato introdotto con Python 3.\n",
        "\n",
        "> 📚 Dai un'occhiata a [questo articolo](https://realpython.com/python-f-strings/) per approfondire il tema delle f-strings e confrontarlo con gli altri metodi di formattazione delle stringhe."
      ],
      "metadata": {
        "id": "0XCo-awTwKv8"
      },
      "id": "0XCo-awTwKv8"
    },
    {
      "cell_type": "markdown",
      "id": "aeeb57ea-cc70-4609-9e65-4a63fd526ec8",
      "metadata": {
        "id": "aeeb57ea-cc70-4609-9e65-4a63fd526ec8"
      },
      "source": [
        "### Strutture di dati"
      ]
    },
    {
      "cell_type": "markdown",
      "id": "e52dbde0-a330-4cd1-bb65-0beb1e39de96",
      "metadata": {
        "id": "e52dbde0-a330-4cd1-bb65-0beb1e39de96"
      },
      "source": [
        "Le strutture di dati sono tra gli elementi fondanti di Python e indicano un modo specifico di organizzare i dati in modo da poterli usare nel modo più efficiente possibile.\n",
        "\n",
        "Python offre quattro tipi di struttura dei dati:\n",
        "- **Liste**: ordinate, modificabili, ammettono duplicati\n",
        "- **Dizionari**: ordinati (da Python 3.7+ mantengono l'ordine di inserimento), modificabili, non sono ammesse chiavi duplicate\n",
        "- **Tuple**: ordinate, immutabili, ammettono duplicati\n",
        "- **Set**: non ordinati, modificabili, non indicizzati, non sono ammessi duplicati.\n",
        "\n",
        "Le liste sono una delle strutture dati più versatili in Python e sono talvolta informamente chiamate \"array\" a causa della loro somiglianza con gli array in altri linguaggi. Quando si parla di array, si intendono record di dati di dimensioni fisse che consentono di individuare in modo efficiente ogni elemento in base al suo indice:"
      ]
    },
    {
      "cell_type": "markdown",
      "id": "2c1be07f-1612-423a-9621-0a28373ec27b",
      "metadata": {
        "id": "2c1be07f-1612-423a-9621-0a28373ec27b"
      },
      "source": [
        "![](https://drive.google.com/uc?export=view&id=1rdUtcNX16xxkb7byZRdrMx60AcSiJoim)"
      ]
    },
    {
      "cell_type": "markdown",
      "id": "56dd1815-a9f8-4044-94ef-4739fbd42ead",
      "metadata": {
        "id": "56dd1815-a9f8-4044-94ef-4739fbd42ead"
      },
      "source": [
        "Immagina un array come una serie di scatole messe una vicina all'altra, le quali:\n",
        "\n",
        "*   possono contenere oggetti dello stesso tipo (eg: tutte stringhe) o anche diversi (eg: stringhe e interi);\n",
        "*   possono essere riordinate;\n",
        "*   due o più scatole possono contenere lo stesso identico elemento (duplicato);\n",
        "*   è possibile estrarre, sostituire o lasciare dov'è l'elemento di ciascuna scatola.\n",
        "\n",
        "Vediamo più nel dettaglio i quattro principali tipi di strutture dati."
      ]
    },
    {
      "cell_type": "markdown",
      "id": "5bf01196-096b-43cd-8e38-c5fb504b9f25",
      "metadata": {
        "id": "5bf01196-096b-43cd-8e38-c5fb504b9f25"
      },
      "source": [
        "#### Liste"
      ]
    },
    {
      "cell_type": "markdown",
      "id": "9aa57d2c-e12d-4ca6-9427-e372c58d6653",
      "metadata": {
        "id": "9aa57d2c-e12d-4ca6-9427-e372c58d6653"
      },
      "source": [
        "Le liste in Python vengono usate per immagazzinare elementi di tipologia diversa in un oggetto:\n",
        "- ordinato\n",
        "- modificabile\n",
        "- che ammetta valori duplicati\n",
        "\n",
        "Immagina una **serie di scatole** in fila, dove *ognuna può contenere qualsiasi cosa*, valori numerici (interi o reali), stringhe, booleani, ecc\n",
        "\n",
        "È possibile **creare una nuova lista** usando le parentesi quadre `[]`:"
      ]
    },
    {
      "cell_type": "code",
      "execution_count": null,
      "id": "6729dc7c-a3f7-4651-a323-2a3f6feaa943",
      "metadata": {
        "id": "6729dc7c-a3f7-4651-a323-2a3f6feaa943"
      },
      "outputs": [],
      "source": [
        "interi = [1, 2, 3, 4, 5]\n",
        "print(interi)"
      ]
    },
    {
      "cell_type": "code",
      "execution_count": null,
      "id": "b79dd1c2-1f5f-4fbf-83de-09ae90e9ccdf",
      "metadata": {
        "id": "b79dd1c2-1f5f-4fbf-83de-09ae90e9ccdf"
      },
      "outputs": [],
      "source": [
        "reali = [0.1, 0.2, 0.3, 0.4, 0.5]\n",
        "print(reali)"
      ]
    },
    {
      "cell_type": "code",
      "source": [
        "stringhe = [\"Marco\", \"Anna\", \"Sara\"]\n",
        "print(stringhe)"
      ],
      "metadata": {
        "id": "38FBYv9ULFbG"
      },
      "id": "38FBYv9ULFbG",
      "execution_count": null,
      "outputs": []
    },
    {
      "cell_type": "code",
      "source": [
        "mista = [1, 0.2, \"Anna\", 3, True, \"via Roma, 10\"]\n",
        "print(mista)"
      ],
      "metadata": {
        "id": "ZIkTUAKOLGiB"
      },
      "id": "ZIkTUAKOLGiB",
      "execution_count": null,
      "outputs": []
    },
    {
      "cell_type": "markdown",
      "id": "7c5cc03b-6687-44fb-bc87-126d56e14274",
      "metadata": {
        "id": "7c5cc03b-6687-44fb-bc87-126d56e14274"
      },
      "source": [
        "Le liste in Python sono indicizzate, il che significa che ogni elemento al suo interno è associato a un numero progressivo: il primo elemento ha indice 0, il secondo ha indice 1 e così via fino all'ultimo elemento della lista. È possibile scoprire la lunghezza della lista usando la funzione `len()`."
      ]
    },
    {
      "cell_type": "code",
      "execution_count": null,
      "id": "dc5b48f8-f067-4909-b737-6a9612e435ce",
      "metadata": {
        "id": "dc5b48f8-f067-4909-b737-6a9612e435ce"
      },
      "outputs": [],
      "source": [
        "len(stringhe)"
      ]
    },
    {
      "cell_type": "markdown",
      "source": [
        "Ricorda, **in Python gli indici partono sempre da 0**, quindi il terzo elemento di una lista avrà indice 2:"
      ],
      "metadata": {
        "id": "Oupfb9S-kiKQ"
      },
      "id": "Oupfb9S-kiKQ"
    },
    {
      "cell_type": "code",
      "execution_count": null,
      "id": "f896ef45-eefe-452f-90fc-02c551ff1bee",
      "metadata": {
        "id": "f896ef45-eefe-452f-90fc-02c551ff1bee"
      },
      "outputs": [],
      "source": [
        "# questa riga genererà un errore\n",
        "stringhe[3]"
      ]
    },
    {
      "cell_type": "code",
      "execution_count": null,
      "id": "79719265-618b-496c-9747-3321804ef2ea",
      "metadata": {
        "id": "79719265-618b-496c-9747-3321804ef2ea"
      },
      "outputs": [],
      "source": [
        "stringhe[2]"
      ]
    },
    {
      "cell_type": "markdown",
      "id": "0230f4dd-0498-4147-998a-8e0fdfa9dff0",
      "metadata": {
        "id": "0230f4dd-0498-4147-998a-8e0fdfa9dff0"
      },
      "source": [
        "Gli elementi di una lista possono essere estratti usando il relativo indice tra `[]` come appena visto; **gli elementi di una lista possono anche essere cambiati** andando a sovrascrivere quell'elemento con un nuovo valore:"
      ]
    },
    {
      "cell_type": "code",
      "execution_count": null,
      "id": "db2062e7-f719-44a9-998e-7c9414362ecc",
      "metadata": {
        "id": "db2062e7-f719-44a9-998e-7c9414362ecc"
      },
      "outputs": [],
      "source": [
        "stringhe[2] = \"Sarah\""
      ]
    },
    {
      "cell_type": "code",
      "execution_count": null,
      "id": "604eabb9-3146-4d00-b869-d16df428b804",
      "metadata": {
        "id": "604eabb9-3146-4d00-b869-d16df428b804"
      },
      "outputs": [],
      "source": [
        "print(stringhe)"
      ]
    },
    {
      "cell_type": "markdown",
      "id": "c2aeea65-ceac-41a6-9d5f-3f362c23f963",
      "metadata": {
        "id": "c2aeea65-ceac-41a6-9d5f-3f362c23f963"
      },
      "source": [
        "L'ordine degli elementi della lista non è cambiato e infatti, come visto poco sopra, le liste sono ordinate; ciononostante, ci sono dei [metodi](https://www.w3schools.com/python/python_lists_methods.asp) che possono essere sfruttati per cambiare l'ordine interno di una lista, come ad esempio `sort()` e `reverse()`."
      ]
    },
    {
      "cell_type": "code",
      "execution_count": null,
      "id": "6d91cc83-c0f5-4598-ba41-f4fa8d63a313",
      "metadata": {
        "id": "6d91cc83-c0f5-4598-ba41-f4fa8d63a313"
      },
      "outputs": [],
      "source": [
        "stringhe.sort()\n",
        "print(stringhe)"
      ]
    },
    {
      "cell_type": "code",
      "execution_count": null,
      "id": "ee8a8235-9d3a-43c4-931a-47cf00d87dcd",
      "metadata": {
        "id": "ee8a8235-9d3a-43c4-931a-47cf00d87dcd"
      },
      "outputs": [],
      "source": [
        "stringhe.reverse()\n",
        "print(stringhe)"
      ]
    },
    {
      "cell_type": "markdown",
      "source": [
        "Il metodo `.append()`, invece, permette di aggiungere un elemento in coda ad una lista esistente:"
      ],
      "metadata": {
        "id": "mOyQqltyL-cj"
      },
      "id": "mOyQqltyL-cj"
    },
    {
      "cell_type": "code",
      "execution_count": null,
      "id": "1953830d-4a92-4eb2-ba43-5d46fb13fe95",
      "metadata": {
        "id": "1953830d-4a92-4eb2-ba43-5d46fb13fe95"
      },
      "outputs": [],
      "source": [
        "stringhe.append(\"Matteo\")"
      ]
    },
    {
      "cell_type": "code",
      "execution_count": null,
      "id": "65b4dc26-c2e1-4dd8-9af1-1729dbd367ea",
      "metadata": {
        "id": "65b4dc26-c2e1-4dd8-9af1-1729dbd367ea"
      },
      "outputs": [],
      "source": [
        "print(stringhe)"
      ]
    },
    {
      "cell_type": "markdown",
      "id": "1a9aae25-75ef-4636-a54f-3116e3b93684",
      "metadata": {
        "id": "1a9aae25-75ef-4636-a54f-3116e3b93684"
      },
      "source": [
        "#### Dizionari"
      ]
    },
    {
      "cell_type": "markdown",
      "id": "4c73e84e-54b9-43ab-aae1-018418246649",
      "metadata": {
        "id": "4c73e84e-54b9-43ab-aae1-018418246649"
      },
      "source": [
        "In Python i dizionari vengono usati per inserirvi delle coppie `chiave:valore` che sono:\n",
        "- ordinate\n",
        "- modificabili\n",
        "- non ammettono duplicati per le chiavi\n",
        "\n",
        "Una bella analogia è la cara vecchia **rubrica** degli indirizzi, dove la *chiave* è il nome della persona e il *valore* è il suo indirizzo.\n",
        "\n",
        "È possibile **creare un nuovo dizionario** usando le parentesi graffe `{}`:"
      ]
    },
    {
      "cell_type": "code",
      "execution_count": null,
      "id": "d83b010c-5869-4ae0-8939-511fc4f665e7",
      "metadata": {
        "id": "d83b010c-5869-4ae0-8939-511fc4f665e7"
      },
      "outputs": [],
      "source": [
        "# questo dizionario usa dei numeri interi come chiavi\n",
        "numeri = {\n",
        "    1:\"uno\",\n",
        "    2:\"due\",\n",
        "    3:\"tre\"\n",
        "}"
      ]
    },
    {
      "cell_type": "code",
      "execution_count": null,
      "id": "61e876fa-d622-481d-9f91-75e24c607929",
      "metadata": {
        "id": "61e876fa-d622-481d-9f91-75e24c607929"
      },
      "outputs": [],
      "source": [
        "print(numeri)"
      ]
    },
    {
      "cell_type": "markdown",
      "id": "3f60e379-6c64-4e52-aa66-d3ad62d96dc1",
      "metadata": {
        "id": "3f60e379-6c64-4e52-aa66-d3ad62d96dc1"
      },
      "source": [
        "Si può facilmente controllare il data type dell'oggetto `numeri` usando la funzione `type()`:"
      ]
    },
    {
      "cell_type": "code",
      "execution_count": null,
      "id": "4b6ecf8d-3f28-4632-b8f0-f68962a64a46",
      "metadata": {
        "id": "4b6ecf8d-3f28-4632-b8f0-f68962a64a46"
      },
      "outputs": [],
      "source": [
        "type(numeri)"
      ]
    },
    {
      "cell_type": "markdown",
      "id": "36a96e5f-b76c-4ddb-a67d-c4f382241f86",
      "metadata": {
        "id": "36a96e5f-b76c-4ddb-a67d-c4f382241f86"
      },
      "source": [
        "La funzione `len()` restituisce la lunghezza di un oggetto; nel caso di un dizionario, corrisponde al numero di coppie `chiave:valore` che troviamo al suo interno:"
      ]
    },
    {
      "cell_type": "code",
      "execution_count": null,
      "id": "5a0cbf06-b8cf-43da-bd84-a233183ce73b",
      "metadata": {
        "id": "5a0cbf06-b8cf-43da-bd84-a233183ce73b"
      },
      "outputs": [],
      "source": [
        "len(numeri)"
      ]
    },
    {
      "cell_type": "code",
      "execution_count": null,
      "id": "a0494548-9695-43de-b0c7-110a3c4dcf11",
      "metadata": {
        "id": "a0494548-9695-43de-b0c7-110a3c4dcf11"
      },
      "outputs": [],
      "source": [
        "# questo dizionario usa delle stringhe come chiavi\n",
        "rubrica = {\n",
        "    \"Marco\":\"Via Roma\",\n",
        "    \"Anna\":\"Corso Como\",\n",
        "    \"Sara\":\"Piazzale Loreto\"\n",
        "}"
      ]
    },
    {
      "cell_type": "code",
      "execution_count": null,
      "id": "2103ec58-7c69-430c-a0a1-3d62f584c0d3",
      "metadata": {
        "id": "2103ec58-7c69-430c-a0a1-3d62f584c0d3"
      },
      "outputs": [],
      "source": [
        "print(rubrica)"
      ]
    },
    {
      "cell_type": "markdown",
      "id": "00472c0c-0712-4fb5-abf1-93b7c03608b7",
      "metadata": {
        "id": "00472c0c-0712-4fb5-abf1-93b7c03608b7"
      },
      "source": [
        "Per accedere ad un *valore* specifico del dizionario, basta indicizzarlo, riferendosi alla *chiave* corrispondente, usando l'operatore `[]`:"
      ]
    },
    {
      "cell_type": "code",
      "execution_count": null,
      "id": "1bc53087-acbe-4a0f-9d5c-e3c353111400",
      "metadata": {
        "id": "1bc53087-acbe-4a0f-9d5c-e3c353111400"
      },
      "outputs": [],
      "source": [
        "numeri[2]"
      ]
    },
    {
      "cell_type": "code",
      "execution_count": null,
      "id": "ef39c504-3947-45d6-8812-497bd1a5df6a",
      "metadata": {
        "id": "ef39c504-3947-45d6-8812-497bd1a5df6a"
      },
      "outputs": [],
      "source": [
        "rubrica[\"Anna\"]"
      ]
    },
    {
      "cell_type": "markdown",
      "id": "39512f41-8fd8-431b-b561-0a1674afae4e",
      "metadata": {
        "id": "39512f41-8fd8-431b-b561-0a1674afae4e"
      },
      "source": [
        "#### Tuple"
      ]
    },
    {
      "cell_type": "markdown",
      "id": "98129002-547e-4b9e-9ddc-b6acd89d0169",
      "metadata": {
        "id": "98129002-547e-4b9e-9ddc-b6acd89d0169"
      },
      "source": [
        "Le tuple in Python vengono usate per immagazzinare elementi di tipologia diversa in un oggetto:\n",
        "- ordinato\n",
        "- non modificabile\n",
        "- che ammetta valori duplicati\n",
        "\n",
        "Sono molto **simili alle liste**, ad eccezione del fatto che **sono immutabili**. Ciò significa che gli elementi al suo interno non possono essere aggiunti o rimossi agevolmente: tutti gli elementi di una tupla devono essere definiti in fase di creazione della tupla stessa.\n",
        "\n",
        "È possibile **creare una nuova tupla** usando le parentesi tonde `()`:"
      ]
    },
    {
      "cell_type": "code",
      "execution_count": null,
      "id": "285361a2-73d7-4e91-bd24-9b48e8f70772",
      "metadata": {
        "id": "285361a2-73d7-4e91-bd24-9b48e8f70772"
      },
      "outputs": [],
      "source": [
        "tupla = (10, 20, \"Parigi\", \"Milano\", \"Londra\", 60, 70)"
      ]
    },
    {
      "cell_type": "code",
      "execution_count": null,
      "id": "b68ecadf-2412-4ab0-9ab6-33b9fcbef6b6",
      "metadata": {
        "id": "b68ecadf-2412-4ab0-9ab6-33b9fcbef6b6"
      },
      "outputs": [],
      "source": [
        "print(tupla)"
      ]
    },
    {
      "cell_type": "markdown",
      "id": "9dde27ee-bac9-4d12-b2ce-1a227e022e8b",
      "metadata": {
        "id": "9dde27ee-bac9-4d12-b2ce-1a227e022e8b"
      },
      "source": [
        "Possiamo verificare il tipo di oggetto e la lunghezza di una tupla con le solite funzioni:"
      ]
    },
    {
      "cell_type": "code",
      "execution_count": null,
      "id": "2b9b9caf-fe27-4512-ba02-e96727221c26",
      "metadata": {
        "id": "2b9b9caf-fe27-4512-ba02-e96727221c26"
      },
      "outputs": [],
      "source": [
        "print(type(tupla))\n",
        "print(len(tupla))"
      ]
    },
    {
      "cell_type": "markdown",
      "id": "40046769-767e-44f7-8cf6-48a44377dea1",
      "metadata": {
        "id": "40046769-767e-44f7-8cf6-48a44377dea1"
      },
      "source": [
        "Anche le tuple sono indicizzate, quindi è possibile accedere ai loro elementi usando il solito operatore `[]`:"
      ]
    },
    {
      "cell_type": "code",
      "execution_count": null,
      "id": "de89c4ba-56f5-4781-85f1-d525ce44bd7d",
      "metadata": {
        "id": "de89c4ba-56f5-4781-85f1-d525ce44bd7d"
      },
      "outputs": [],
      "source": [
        "tupla[3]"
      ]
    },
    {
      "cell_type": "markdown",
      "id": "bf536434-43b4-4189-964c-c743f21a15b6",
      "metadata": {
        "id": "bf536434-43b4-4189-964c-c743f21a15b6"
      },
      "source": [
        "Ma, a differenza delle liste, **le tuple sono immutabili**, quindi non è possibile sovrascrivere i suoi elementi:"
      ]
    },
    {
      "cell_type": "code",
      "execution_count": null,
      "id": "98346419-d356-4e6c-a274-815872ef6dec",
      "metadata": {
        "id": "98346419-d356-4e6c-a274-815872ef6dec"
      },
      "outputs": [],
      "source": [
        "# questa riga genererà un errore\n",
        "tupla[3] = \"Rome\""
      ]
    },
    {
      "cell_type": "markdown",
      "id": "b643427b-9938-4917-ad55-05cf2a658827",
      "metadata": {
        "id": "b643427b-9938-4917-ad55-05cf2a658827"
      },
      "source": [
        "#### Set"
      ]
    },
    {
      "cell_type": "markdown",
      "id": "12e9b451-a5dd-44a7-aa8d-343a60d89f7b",
      "metadata": {
        "id": "12e9b451-a5dd-44a7-aa8d-343a60d89f7b"
      },
      "source": [
        "I set in Python vengono usati per immagazzinare elementi di tipologia diversa in un oggetto:\n",
        "- non ordinato\n",
        "- modificabile\n",
        "- non indicizzato\n",
        "- che non ammette valori duplicati\n",
        "\n",
        "Può essere utile immaginare i set come degli insiemi di elementi unici (non duplicati). Un uso comune dei set è quello di **verificare se un valore è già presente in un set di valori** o anche unire o intersecare due set di valori tra loro; è possibile inserire o rimuovere uno o più elementi da un set.\n",
        "\n",
        "È possibile **creare un nuovo set** usando le parentesi graffe `{}` ma, per creare un set vuoto è necessario usare la funzione `set()` dato che, usando le graffe vuote `{}` andremmo a creare un dizionario vuoto:"
      ]
    },
    {
      "cell_type": "code",
      "execution_count": null,
      "id": "8f42b0b9-09b0-4752-a8ed-f5e5f70e7717",
      "metadata": {
        "id": "8f42b0b9-09b0-4752-a8ed-f5e5f70e7717"
      },
      "outputs": [],
      "source": [
        "spesa = {\"pane\", \"latte\", \"birra\", \"pomodori\", \"carne\"}"
      ]
    },
    {
      "cell_type": "code",
      "execution_count": null,
      "id": "22a903bf-6343-412d-ad7c-dcaa8429fd2c",
      "metadata": {
        "id": "22a903bf-6343-412d-ad7c-dcaa8429fd2c"
      },
      "outputs": [],
      "source": [
        "print(spesa)"
      ]
    },
    {
      "cell_type": "markdown",
      "id": "95c1a27d-bfcb-4442-848e-5ed0130c87f7",
      "metadata": {
        "id": "95c1a27d-bfcb-4442-848e-5ed0130c87f7"
      },
      "source": [
        "I set non sono indicizzati, quindi non possiamo accedere ai suoi elementi o cambiarli usando il solito operatore `[]`:"
      ]
    },
    {
      "cell_type": "code",
      "execution_count": null,
      "id": "1ad06c5c-466f-447e-b49f-cadce9784eff",
      "metadata": {
        "id": "1ad06c5c-466f-447e-b49f-cadce9784eff"
      },
      "outputs": [],
      "source": [
        "# questa riga genererà un errore\n",
        "spesa[0]"
      ]
    },
    {
      "cell_type": "code",
      "execution_count": null,
      "id": "4d53b6db-3cc8-4460-b854-43c5969123de",
      "metadata": {
        "id": "4d53b6db-3cc8-4460-b854-43c5969123de"
      },
      "outputs": [],
      "source": [
        "# questa riga genererà un errore\n",
        "spesa[0] = \"butter\""
      ]
    },
    {
      "cell_type": "markdown",
      "id": "62f82ab5-e5a9-4dec-a1f4-de9b2768b011",
      "metadata": {
        "id": "62f82ab5-e5a9-4dec-a1f4-de9b2768b011"
      },
      "source": [
        "Possiamo verificare il tipo di oggetto e la lunghezza di un set con le solite funzioni:"
      ]
    },
    {
      "cell_type": "code",
      "execution_count": null,
      "id": "9248db4c-491a-41ee-8bba-d455e5e24e93",
      "metadata": {
        "id": "9248db4c-491a-41ee-8bba-d455e5e24e93"
      },
      "outputs": [],
      "source": [
        "print(type(spesa))\n",
        "print(len(spesa))"
      ]
    },
    {
      "cell_type": "markdown",
      "id": "f8bce55c-1fe8-4942-b97e-a14a6654fb94",
      "metadata": {
        "id": "f8bce55c-1fe8-4942-b97e-a14a6654fb94"
      },
      "source": [
        "I set non possono essere modificati, ma è possibile aggiungere o rimuovere degli elementi utilizzando i [metodi](https://www.w3schools.com/python/python_sets_methods.asp) appropriati come `add()` e `remove()`:"
      ]
    },
    {
      "cell_type": "code",
      "execution_count": null,
      "id": "0a460a9a-7237-4cea-8285-47a35f26abf9",
      "metadata": {
        "id": "0a460a9a-7237-4cea-8285-47a35f26abf9"
      },
      "outputs": [],
      "source": [
        "spesa.remove(\"carne\")\n",
        "print(spesa)"
      ]
    },
    {
      "cell_type": "code",
      "execution_count": null,
      "id": "87dccb44-8fda-4355-b0fb-c0db62a9b486",
      "metadata": {
        "id": "87dccb44-8fda-4355-b0fb-c0db62a9b486"
      },
      "outputs": [],
      "source": [
        "spesa.add(\"succo\")\n",
        "print(spesa)"
      ]
    },
    {
      "cell_type": "markdown",
      "id": "3a90f37e-7149-4d9c-9860-3faeee912577",
      "metadata": {
        "id": "3a90f37e-7149-4d9c-9860-3faeee912577"
      },
      "source": [
        "Ricapitoliamo quanto visto finora:\n",
        "\n",
        "|struttura|simbolo|funzione|caratteristiche|\n",
        "|:---|:---:|:---:|:---|\n",
        "|Lista|[ ]|list()|ordinata, modificabile, indicizzata, ammette duplicati|\n",
        "|Dizionario|{ }|dict()|ordinato, modificabile, indicizzato, non ammette duplicati per le chiavi|\n",
        "|Tupla|( )|tuple()|ordinata, immutabile, indicizzata, ammette duplicati|\n",
        "|Set|{ }|set()|non ordinato, modificabile, non indicizzato, non ammette duplicati|\n"
      ]
    },
    {
      "cell_type": "markdown",
      "id": "692f6770-2409-4965-abc1-08b127e7a039",
      "metadata": {
        "id": "692f6770-2409-4965-abc1-08b127e7a039"
      },
      "source": [
        "---"
      ]
    },
    {
      "cell_type": "markdown",
      "id": "21376a58-df36-4faf-ba08-d109a49ab61c",
      "metadata": {
        "tags": [],
        "id": "21376a58-df36-4faf-ba08-d109a49ab61c"
      },
      "source": [
        "### Strutture di Controllo"
      ]
    },
    {
      "cell_type": "markdown",
      "id": "86b82b7c-ad2e-4715-9176-18acf1b609b0",
      "metadata": {
        "id": "86b82b7c-ad2e-4715-9176-18acf1b609b0"
      },
      "source": [
        "Le strutture di controllo sono degli strumenti fondamentali da avere nel proprio arsenale. Permettono al programmatore di interagire con gli oggetti e le variabili del programma e incanalare il flusso delle operazioni su una strada piuttosto che un'altra in base a delle condizioni prestabilite.\n",
        "\n",
        "Le strutture di controllo di base sono:\n",
        "- **sequenziali**: questa è la situazione di default che abbiamo già incontrato, una serie di righe di codice che si susseguono in un programma;\n",
        "- **condizionali**: rappresentano dei criteri di *selezione*, vengono usate per eseguire ona o più righe di codice **se** una certa condizione è soddisfatta;\n",
        "- **cicliche**: aggiungono un elemento *iterativo*, il cui scopo è quello di ripetere una certa sequenza di azioni **per (for)** un certo numero di volte o **fintanto che (while)** una certa condizione è soddisfatta."
      ]
    },
    {
      "cell_type": "markdown",
      "id": "a75161b0-f4d3-4bbc-b040-cc35cf9e02f8",
      "metadata": {
        "id": "a75161b0-f4d3-4bbc-b040-cc35cf9e02f8"
      },
      "source": [
        "<img src=\"https://drive.google.com/uc?export=view&id=1HFIxzouzbDuD_0vq1lqaJIbXLiWLQT-J\" width=\"800\">"
      ]
    },
    {
      "cell_type": "markdown",
      "id": "b782acbe-4f52-487e-a93b-082b0fda694a",
      "metadata": {
        "tags": [],
        "id": "b782acbe-4f52-487e-a93b-082b0fda694a"
      },
      "source": [
        "#### Condizionali"
      ]
    },
    {
      "cell_type": "markdown",
      "id": "e99bd089-2c4d-4b9c-953a-706781674cb7",
      "metadata": {
        "id": "e99bd089-2c4d-4b9c-953a-706781674cb7"
      },
      "source": [
        "Le strutture condizionali permettono di controllare il flusso del codice sulla base di **condizioni booleane** (vero - falso) che vengono specificate dal programmatore.\n",
        "\n",
        "Per inizializzare una struttura condizionale utilizzeremo l'espressione `if`; qui sotto vediamo un esempio in [pseudocodice](https://it.wikipedia.org/wiki/Pseudocodice):\n",
        "\n",
        "```\n",
        "if <condizione booleana>:\n",
        "    <riga (o righe) di codice>\n",
        "```\n",
        "\n",
        "Vediamo un esempio reale che usa la sintassi di Python:"
      ]
    },
    {
      "cell_type": "code",
      "execution_count": null,
      "id": "9f71f684-b062-45d3-8880-7a6bce4a96ac",
      "metadata": {
        "id": "9f71f684-b062-45d3-8880-7a6bce4a96ac"
      },
      "outputs": [],
      "source": [
        "# attenzione all'indentazione!\n",
        "if 10 > 1:\n",
        "    print(\"Corretto!\")"
      ]
    },
    {
      "cell_type": "markdown",
      "id": "e3f15156-df23-4262-bb0c-d05513606991",
      "metadata": {
        "id": "e3f15156-df23-4262-bb0c-d05513606991"
      },
      "source": [
        "Cose da ricordare sul **componente if**:\n",
        "\n",
        "- inizia sempre con la parola `if`\n",
        "- la parola `if` è sempre seguita da un'espressione booleana (che dev'essere valutata a `True` o `False`)\n",
        "- alla fine dell'espressione booleana vanno sempre messi i `:`\n",
        "- il codice che dev'essere eseguito nel caso in cui l'espressione booleana sia vera (il corpo della struttura `if`) dev'essere **indentato**\n",
        "\n",
        "Vediamo un altro esempio dove andiamo prima a definire una variabile `a` e poi la confrontiamo con un altro valore e, se una certa condizione è soddisfatta, stampiamo a schermo una risposta:"
      ]
    },
    {
      "cell_type": "code",
      "execution_count": null,
      "id": "b8aa2706-81b2-486a-8266-4aced7228818",
      "metadata": {
        "id": "b8aa2706-81b2-486a-8266-4aced7228818"
      },
      "outputs": [],
      "source": [
        "a = 10\n",
        "if a < 20:\n",
        "    print(\"a è minore di 20\")"
      ]
    },
    {
      "cell_type": "markdown",
      "id": "ac7fa556-7e11-442c-84c0-cfaeba0ccbe0",
      "metadata": {
        "id": "ac7fa556-7e11-442c-84c0-cfaeba0ccbe0"
      },
      "source": [
        "E se `a` è maggiore di 20, che cosa succede?"
      ]
    },
    {
      "cell_type": "code",
      "execution_count": null,
      "id": "72709471-77c5-4e86-9d8a-0c4d338913db",
      "metadata": {
        "id": "72709471-77c5-4e86-9d8a-0c4d338913db"
      },
      "outputs": [],
      "source": [
        "a = 30\n",
        "if a < 20:\n",
        "    print(\"a è minore di 20\")"
      ]
    },
    {
      "cell_type": "markdown",
      "id": "6d6ae5ae-d8d3-41f2-b429-1b08ee424533",
      "metadata": {
        "id": "6d6ae5ae-d8d3-41f2-b429-1b08ee424533"
      },
      "source": [
        "In questo caso non succede nulla perché non abbiamo specificato un percorso **alternativo (else)**. L'espressione `else` permette di dire al programma che cosa deve fare nel caso in cui la condizione booleana non sia rispettata (cioè nel caso in cui sia falsa):"
      ]
    },
    {
      "cell_type": "code",
      "execution_count": null,
      "id": "2f971840-e903-4874-a982-88808358bc6b",
      "metadata": {
        "id": "2f971840-e903-4874-a982-88808358bc6b"
      },
      "outputs": [],
      "source": [
        "if a < 20:\n",
        "    print(\"a è minore di 20\")\n",
        "else:\n",
        "    print(\"a è maggiore di 20\")"
      ]
    },
    {
      "cell_type": "markdown",
      "id": "08ed5436-712a-4364-bf0c-f5fc9607016b",
      "metadata": {
        "id": "08ed5436-712a-4364-bf0c-f5fc9607016b"
      },
      "source": [
        "Cose da ricordare sul **componente else**\n",
        "\n",
        "- la parola `else` deve essere allo stesso livello (di indentatura) della parola `if`\n",
        "- dopo la parola `else` non c'è bisogno di specificare alcuna condizione booleana\n",
        "- i `:` devono sempre seguire la parola `else`\n",
        "- il codice da eseguire nel caso in cui l'espressione booelana non sia rispettata deve essere **indentato**"
      ]
    },
    {
      "cell_type": "markdown",
      "id": "6fd9ddc9-7bc3-4a19-bec2-f11bbe2ec9ca",
      "metadata": {
        "id": "6fd9ddc9-7bc3-4a19-bec2-f11bbe2ec9ca"
      },
      "source": [
        "È anche possibile specificare più di un'alternativa; ad esempio, potremmo specificare diversi output a seconda che `a` sia:\n",
        "\n",
        "- minore di 10\n",
        "- tra 10 e 19 (inclusi)\n",
        "- tra 20 e 29 (inclusi)\n",
        "- maggiore o uguale a 30\n",
        "\n",
        "Per fare ciò introduciamo l'espressione `elif`, la quale ci permette di specificare più condizioni:"
      ]
    },
    {
      "cell_type": "code",
      "execution_count": null,
      "id": "495a2d40-8ea4-41a1-8478-fe58e808a8c8",
      "metadata": {
        "id": "495a2d40-8ea4-41a1-8478-fe58e808a8c8"
      },
      "outputs": [],
      "source": [
        "a = 15\n",
        "if a < 10:\n",
        "    print(\"a è minore di 10\")\n",
        "elif 10 <= a <= 19:\n",
        "    print(\"a è tra 10 e 19 (inclusi)\")\n",
        "elif 20 <= a <= 29:\n",
        "    print(\"a è tra 20 e 29 (inclusi)\")\n",
        "else:\n",
        "    print(\"a è maggiore o uguale a 30\")"
      ]
    },
    {
      "cell_type": "markdown",
      "id": "c3010342-a2db-4340-a9b6-f685aa55cd91",
      "metadata": {
        "id": "c3010342-a2db-4340-a9b6-f685aa55cd91"
      },
      "source": [
        "Cose da ricordare sul **componente elif**:\n",
        "- la parola `elif` deve essere allo stesso livello d'indentazione della parola `if`\n",
        "- la parola `elif` è sempre seguita dall'espressione booleana che dev'essere valutata\n",
        "- alla fine dell'espressione booleana vanno sempre messi i `:`\n",
        "- il codice che dev'essere eseguito nel caso in cui l'espressione booleana sia vera dev'essere **indentato**\n",
        "\n",
        "Con questi tre nuovi strumenti, `if`, `elif` ed `else` possiamo costruire dei flussi condizionali di grande complessità sulla base di logiche predeterminate dal programmatore."
      ]
    },
    {
      "cell_type": "markdown",
      "source": [
        "> 📚 Dai un'occhiata a [questo articolo](https://realpython.com/python-conditional-statements/) per approfondire il tema delle strutture condizionali."
      ],
      "metadata": {
        "id": "PBu3gOpE9WPK"
      },
      "id": "PBu3gOpE9WPK"
    },
    {
      "cell_type": "markdown",
      "id": "be5c2af3-b985-43d2-8e4b-9dda37244600",
      "metadata": {
        "id": "be5c2af3-b985-43d2-8e4b-9dda37244600"
      },
      "source": [
        "#### Cicli"
      ]
    },
    {
      "cell_type": "markdown",
      "id": "4431e4ae-95db-4b37-a35e-5a0df3982ad2",
      "metadata": {
        "id": "4431e4ae-95db-4b37-a35e-5a0df3982ad2"
      },
      "source": [
        "I cicli sono delle strutture molto comuni in tutti i linguaggi di programmazione e permettono di ripetere una sequenza di righe di codice **per (for)** un certo numero di volte o **fintanto che (while)** una certa condizione rimane soddisfatta.\n",
        "\n",
        "Come sarà chiaro dal precendente paragrafo, esistono due categorie principali di strutture iterative: i cicli `for` e i cicli `while`."
      ]
    },
    {
      "cell_type": "markdown",
      "id": "5c2df056-1b6c-4caf-bdea-0ed928688702",
      "metadata": {
        "id": "5c2df056-1b6c-4caf-bdea-0ed928688702"
      },
      "source": [
        "**Ciclo for**\n",
        "\n",
        "Il ciclo `for` viene usato per iterare su una sequenza di elementi (come una lista, un dizionario, una stringa o anche un range di numeri) dove il numero di iterazioni fatto (e che rimangono da fare) viene controllato da un contatore (o counter); contestualmente, ad ogni iterazione viene eseguito un pezzo di codice.\n",
        "\n",
        "Per inizializzare un ciclo for utilizzeremo l'espressione `for`; qui sotto vediamo un esempio in pseudocodice:\n",
        "\n",
        "```\n",
        "for <contatore> in <sequenza>:\n",
        "    <riga (o righe) di codice da eseguire>\n",
        "```\n",
        "\n",
        "Vediamo un esempio in Python:"
      ]
    },
    {
      "cell_type": "code",
      "execution_count": null,
      "id": "d19f64bd-3880-414a-b5d7-94843eb5eda0",
      "metadata": {
        "id": "d19f64bd-3880-414a-b5d7-94843eb5eda0"
      },
      "outputs": [],
      "source": [
        "# attenzione all'indentazione!\n",
        "for lettera in \"parola\":\n",
        "    print(lettera)"
      ]
    },
    {
      "cell_type": "markdown",
      "id": "c32ea3b6-8b93-48d4-81a7-5e56168fff2a",
      "metadata": {
        "id": "c32ea3b6-8b93-48d4-81a7-5e56168fff2a"
      },
      "source": [
        "Cose da ricordare sul **ciclo for**:\n",
        "\n",
        "- inizia sempre con l'espressione `for`\n",
        "- va sempre specificato un contatore (in questo caso è stato chiamato `lettera`, ma è possibile assegnargli qualsiasi altro nome)\n",
        "- è necessario avere una sequenza sulla quale iterare il contatore (in questo esempio la sequenza è una stringa, quindi una sequenza di lettere, ma anche liste, tuple e set sono ottimi candidati)\n",
        "- contatore e sequenza sono sempre seguiti da un `:`\n",
        "- la riga o le righe di codice che devono essere eseguite in ciascuna iterazione devono essere **indentate**"
      ]
    },
    {
      "cell_type": "markdown",
      "id": "6b61425c-b022-4c02-9e77-116d7edee53a",
      "metadata": {
        "id": "6b61425c-b022-4c02-9e77-116d7edee53a"
      },
      "source": [
        "Dietro le quinte il contatore `lettera` va a iterare sugli elementi della stringa \"parola\" (cioè su ciascuna lettera) e ogni volta che incontra un nuovo elemento esegue il codice (cioè stampa a schermo la lettera).\n",
        "\n",
        "Come detto più sopra, il `contatore` è solo un alias, quindi possiamo chiamarlo come vogliamo, può essere qualsiasi parola o può anche essere formato da una sola lettera:"
      ]
    },
    {
      "cell_type": "code",
      "execution_count": null,
      "id": "c1cc6d7d-6bd6-4b50-9b78-3d65330d35f7",
      "metadata": {
        "id": "c1cc6d7d-6bd6-4b50-9b78-3d65330d35f7"
      },
      "outputs": [],
      "source": [
        "for s in \"stringa\":\n",
        "    print(s)"
      ]
    },
    {
      "cell_type": "markdown",
      "id": "a7b92e0c-f334-4642-a965-3ef11f1d00a3",
      "metadata": {
        "id": "a7b92e0c-f334-4642-a965-3ef11f1d00a3"
      },
      "source": [
        "In molti contesti è necessario ripetere un'operazione per un certo numero di volte; in questi casi è opportuno usare la funzione `range()`:"
      ]
    },
    {
      "cell_type": "code",
      "execution_count": null,
      "id": "0cfa1392-4855-46a3-8bfc-9f4fae62fac2",
      "metadata": {
        "id": "0cfa1392-4855-46a3-8bfc-9f4fae62fac2"
      },
      "outputs": [],
      "source": [
        "for i in range(1, 4):\n",
        "    print(\"Beetlejuice!\")"
      ]
    },
    {
      "cell_type": "markdown",
      "id": "e3ceaaee-b6c0-4360-a780-4d04fc8ad3e2",
      "metadata": {
        "id": "e3ceaaee-b6c0-4360-a780-4d04fc8ad3e2"
      },
      "source": [
        "La funzione `range()` prende tre parametri in input:\n",
        "\n",
        "```\n",
        "range(start, stop, step)\n",
        "```\n",
        "\n",
        "dove:\n",
        "- `start` è l'inizio (incluso) del range numerico (parametro opzionale, default = 0)\n",
        "- `stop` è la fine (non incluso) del range numerico\n",
        "- `step` indica l'ampiezza dell'incremento (opzionale, default = 1).\n",
        "\n",
        "Come detto sopra, il punto finale `stop` non viene incluso nella sequenza:"
      ]
    },
    {
      "cell_type": "code",
      "execution_count": null,
      "id": "01a1ee83-cb9c-4c19-96b1-e27bef1f921f",
      "metadata": {
        "id": "01a1ee83-cb9c-4c19-96b1-e27bef1f921f"
      },
      "outputs": [],
      "source": [
        "for num in range(6):\n",
        "    print(num)"
      ]
    },
    {
      "cell_type": "markdown",
      "id": "2c465291-fb60-4077-9ff3-cdb3015aea39",
      "metadata": {
        "id": "2c465291-fb60-4077-9ff3-cdb3015aea39"
      },
      "source": [
        "Come già annunciato, qualsiasi oggetto iterabile può essere incluso come `iteratore` in un ciclo for. Vediamo un esempio con una lista:"
      ]
    },
    {
      "cell_type": "code",
      "execution_count": null,
      "id": "7d0ce8ec-7c37-4b47-bb80-434b09a35ae8",
      "metadata": {
        "id": "7d0ce8ec-7c37-4b47-bb80-434b09a35ae8"
      },
      "outputs": [],
      "source": [
        "lista = [1,2,3,4,5]\n",
        "print(lista)"
      ]
    },
    {
      "cell_type": "code",
      "execution_count": null,
      "id": "2e4133fd-90ff-40e7-a3e1-f5a1ad0d5589",
      "metadata": {
        "id": "2e4133fd-90ff-40e7-a3e1-f5a1ad0d5589"
      },
      "outputs": [],
      "source": [
        "for el in lista:\n",
        "    print(el, el**2)"
      ]
    },
    {
      "cell_type": "markdown",
      "id": "bde4e8e2-3d87-46c5-9837-e7b4eca96051",
      "metadata": {
        "id": "bde4e8e2-3d87-46c5-9837-e7b4eca96051"
      },
      "source": [
        "**Ciclo While**\n",
        "\n",
        "Un ciclo while permette di eseguire una o più righe di codice **fintanto che una certa condizione booleana rimane verificata**; solitamente viene usato un contatore che, alla fine di ciascuna iterazione, viene incrementato (o ridotto) sulla base di una certa logica decisa dal programmatore. Una volta che la condizione booleana smette di essere verificata, il programma \"esce dal ciclo\" e si ferma.\n",
        "\n",
        "Per inizializzare un ciclo while utilizzeremo l'espressione `while`; qui sotto vediamo un esempio in pseudocodice:\n",
        "\n",
        "```\n",
        "while <condizione booleana>:\n",
        "    <riga (o righe) di codice da eseguire>\n",
        "```\n",
        "\n",
        "Vediamo un esempio con la sintassi di Python:\n"
      ]
    },
    {
      "cell_type": "code",
      "execution_count": null,
      "id": "b9e20f07-12f2-413b-804e-40927a0db887",
      "metadata": {
        "id": "b9e20f07-12f2-413b-804e-40927a0db887"
      },
      "outputs": [],
      "source": [
        "a = 1\n",
        "while a < 6:\n",
        "    print(a)\n",
        "    a = a + 1"
      ]
    },
    {
      "cell_type": "markdown",
      "id": "054e81a1-7925-4939-b4bd-a7f4a55dda71",
      "metadata": {
        "id": "054e81a1-7925-4939-b4bd-a7f4a55dda71"
      },
      "source": [
        "È anche possibile specificare una condizione `else`, nel caso in cui vogliamo far fare qualcosa al programma (come stampare un messaggio) non appena la condizione booleana smetta di essere verificata:"
      ]
    },
    {
      "cell_type": "code",
      "execution_count": null,
      "id": "d5be6220-22e2-470a-9024-856bc19efd44",
      "metadata": {
        "id": "d5be6220-22e2-470a-9024-856bc19efd44"
      },
      "outputs": [],
      "source": [
        "a = 1\n",
        "while a < 6:\n",
        "    print(a)\n",
        "    a = a + 1\n",
        "else:\n",
        "    print('stop:', a, \"non è minore di 6\")"
      ]
    },
    {
      "cell_type": "markdown",
      "source": [
        "> **Attenzione**: nel caso in cui la condizione booleana sia sempre verificata (eg: se avessimo scritto: a > 0 nell'esempio precedente), *il programma non uscirà mai dal ciclo e andrà avanti all'infinito* (più precisamente finché non verrà esaurita la memoria disponibile o finché il programma non verrà arrestato forzatamente).\n",
        "\n",
        "\n"
      ],
      "metadata": {
        "id": "VTBx9bfF_GH2"
      },
      "id": "VTBx9bfF_GH2"
    },
    {
      "cell_type": "markdown",
      "id": "71e078ce-df80-4e3d-8dca-26ebf949589e",
      "metadata": {
        "id": "71e078ce-df80-4e3d-8dca-26ebf949589e"
      },
      "source": [
        "Nel corpo di entrambi i cicli `for` e `while`, è possibile inserire delle strutture condizionali (e viceversa); ci sono diverse ragioni per le quali si potrebbe volerlo fare:\n",
        "- per **fermare il ciclo** preventivamente, è possibile combinare un `if` con un `break`\n",
        "- per **saltare l'iterazione** corrente, si può combinare un `if` con un `continue`"
      ]
    },
    {
      "cell_type": "code",
      "execution_count": null,
      "id": "e02f2f65-51b0-4a08-9f83-84b6ce6cdc1d",
      "metadata": {
        "id": "e02f2f65-51b0-4a08-9f83-84b6ce6cdc1d"
      },
      "outputs": [],
      "source": [
        "# break\n",
        "a = 1\n",
        "while a < 6:\n",
        "    print(a)\n",
        "    a = a + 1\n",
        "    if a == 3:\n",
        "        break"
      ]
    },
    {
      "cell_type": "code",
      "execution_count": null,
      "id": "f6eeaa75-0a05-4a18-b1e2-f47204b3b4e2",
      "metadata": {
        "id": "f6eeaa75-0a05-4a18-b1e2-f47204b3b4e2"
      },
      "outputs": [],
      "source": [
        "# continue\n",
        "a = 0\n",
        "while a < 6:\n",
        "    a = a + 1\n",
        "    if a == 3:\n",
        "        continue\n",
        "    print(a)"
      ]
    },
    {
      "cell_type": "markdown",
      "source": [
        "> 📚 Dai un'occhiata a questi due articoli per approfondire il tema dei [cicli for](https://realpython.com/python-for-loop/) e dei [cicli while](https://realpython.com/python-while-loop/)."
      ],
      "metadata": {
        "id": "q80eAsLy9m-I"
      },
      "id": "q80eAsLy9m-I"
    },
    {
      "cell_type": "markdown",
      "id": "dd326429-2620-4ae4-b7b6-e6ae1c83f7ae",
      "metadata": {
        "id": "dd326429-2620-4ae4-b7b6-e6ae1c83f7ae"
      },
      "source": [
        "---"
      ]
    },
    {
      "cell_type": "markdown",
      "id": "69527f37-5ab9-4c4d-bfed-9a43b4ee0ec4",
      "metadata": {
        "id": "69527f37-5ab9-4c4d-bfed-9a43b4ee0ec4"
      },
      "source": [
        "### Funzioni"
      ]
    },
    {
      "cell_type": "markdown",
      "id": "997d5289-2045-4e6a-84d5-be246b7108ea",
      "metadata": {
        "id": "997d5289-2045-4e6a-84d5-be246b7108ea"
      },
      "source": [
        "Spesso ci si ritrova a **scrivere e riscrivere sempre le stesse righe** di codice, magari con piccole variazioni di alcuni parametri. In questi casi, invece di continuare a copiare e incollare il codice precedente, può essere una buona idea **scrivere una funzione**.\n",
        "\n",
        "Le funzioni sono dei **blocchi di codice** ai quali viene assegnato un nome (il nome della funzione) e che possono prendere in input dei parametri (ma non è obbligatorio, una funzione può anche non avere dei parametri).\n",
        "\n",
        "Quindi, in sostanza, una funzione prende dei valori in input, li passa al blocco di codice che è stato scritto (quello che ci eravamo stancati di scrivere e riscrivere), e produce un output come risultato finale.\n",
        "\n",
        "<img src=\"https://drive.google.com/uc?export=view&id=1L82Af-NassPOom_xKYp0doE_b3ygX7qB\" width=\"400\">\n",
        "\n",
        "In Python è possibile **definire una funzione** usando l'espressione `def`:"
      ]
    },
    {
      "cell_type": "code",
      "execution_count": null,
      "id": "22a6554e-a15c-4650-ac1c-974d95adc3ac",
      "metadata": {
        "id": "22a6554e-a15c-4650-ac1c-974d95adc3ac"
      },
      "outputs": [],
      "source": [
        "def la_mia_prima_funzione():\n",
        "    print(\"Ciao, sono l'output della funzione!\")"
      ]
    },
    {
      "cell_type": "markdown",
      "id": "6636fcff-9bce-4d8d-84c3-cddb35ffdd75",
      "metadata": {
        "id": "6636fcff-9bce-4d8d-84c3-cddb35ffdd75"
      },
      "source": [
        "Nella cella qui sopra abbiamo **definito** una funzione e, come avrai notato, non ha prodotto alcun risultato. Questo perché è stata definita ma *non è stata utilizzata* (in gergo si dice che non è stata **chiamata**).\n",
        "\n",
        "Per \"chiamare una funzione\", basta scrivere il suo nome seguito da delle parentesi (e, se la funzione ne prevede, specificare i parametri di input):"
      ]
    },
    {
      "cell_type": "code",
      "execution_count": null,
      "id": "a73cef94-ca82-4f16-8c19-cabc73059797",
      "metadata": {
        "id": "a73cef94-ca82-4f16-8c19-cabc73059797"
      },
      "outputs": [],
      "source": [
        "la_mia_prima_funzione()"
      ]
    },
    {
      "cell_type": "markdown",
      "id": "65bd97c7-6bc6-4302-bd83-88c8503cd26d",
      "metadata": {
        "id": "65bd97c7-6bc6-4302-bd83-88c8503cd26d"
      },
      "source": [
        "Come dicevamo, una funzione può prendere dei **parametri in input**, in altre parole possiamo decidere di passare delle informazioni aggiuntive all'interno delle parentesi della funzione in modo che possano essere usate da quest'ultima in fase di esecuzione:"
      ]
    },
    {
      "cell_type": "code",
      "execution_count": null,
      "id": "dd4404f0-7b50-45a8-aaa4-3e7882c0dea7",
      "metadata": {
        "id": "dd4404f0-7b50-45a8-aaa4-3e7882c0dea7"
      },
      "outputs": [],
      "source": [
        "def saluto(nome):\n",
        "    print(f\"Ciao {nome}\")"
      ]
    },
    {
      "cell_type": "code",
      "execution_count": null,
      "id": "b50f6339-5d5d-4552-a8e5-3942cf84abdc",
      "metadata": {
        "id": "b50f6339-5d5d-4552-a8e5-3942cf84abdc"
      },
      "outputs": [],
      "source": [
        "saluto(nome=\"Booleaner\")"
      ]
    },
    {
      "cell_type": "markdown",
      "id": "4ad48880-c7fc-48a4-b7d8-4a8dbdb648a0",
      "metadata": {
        "id": "4ad48880-c7fc-48a4-b7d8-4a8dbdb648a0"
      },
      "source": [
        "Naturalmente una funzione può anche restituire dei valori numerici come output, scriviamo una funzione che prende due numeri in input e restituisce il loro prodotto:"
      ]
    },
    {
      "cell_type": "code",
      "execution_count": null,
      "id": "81cd5bb9-d7e7-47b8-9267-8682e9aea5dd",
      "metadata": {
        "id": "81cd5bb9-d7e7-47b8-9267-8682e9aea5dd"
      },
      "outputs": [],
      "source": [
        "def prodotto(a, b):\n",
        "    a * b"
      ]
    },
    {
      "cell_type": "code",
      "execution_count": null,
      "id": "1b6e8da8-d753-4c02-98ed-03b6cc38b2d8",
      "metadata": {
        "id": "1b6e8da8-d753-4c02-98ed-03b6cc38b2d8"
      },
      "outputs": [],
      "source": [
        "prodotto(a=4, b=5)"
      ]
    },
    {
      "cell_type": "markdown",
      "id": "8c8d0346-3992-4667-a7a1-3730444c99e9",
      "metadata": {
        "id": "8c8d0346-3992-4667-a7a1-3730444c99e9"
      },
      "source": [
        "Nella cella precedente abbiamo chiamato la funzione ma non è stato restituito alcun risultato. Questo perché, nella maggiorparte dei casi, per poter restituire un risultato, la parte risultante dev'essere preceduta dall'espressione `return`:"
      ]
    },
    {
      "cell_type": "code",
      "execution_count": null,
      "id": "d64315bc-5edc-451f-ae13-7138eb4b882c",
      "metadata": {
        "id": "d64315bc-5edc-451f-ae13-7138eb4b882c"
      },
      "outputs": [],
      "source": [
        "def prodotto(a, b):\n",
        "    return a * b"
      ]
    },
    {
      "cell_type": "code",
      "execution_count": null,
      "id": "5c859400-ce80-4b7c-ac86-6a4b5c2a6aec",
      "metadata": {
        "id": "5c859400-ce80-4b7c-ac86-6a4b5c2a6aec"
      },
      "outputs": [],
      "source": [
        "prodotto(a=4, b=5)"
      ]
    },
    {
      "cell_type": "markdown",
      "source": [
        "> 📚 Dai un'occhiata a [questo articolo](https://realpython.com/defining-your-own-python-function/) per approfondire il tema delle funzioni in Python."
      ],
      "metadata": {
        "id": "DJv0KYNz-S1H"
      },
      "id": "DJv0KYNz-S1H"
    },
    {
      "cell_type": "markdown",
      "source": [
        "### Librerie"
      ],
      "metadata": {
        "id": "drJYz835oKSC"
      },
      "id": "drJYz835oKSC"
    },
    {
      "cell_type": "markdown",
      "source": [
        "Come molti altri linguaggi di programmazione, anche Python usa il concetto di libreria. Le librerie (spesso suddivise a loro volta in moduli) sono un insieme di funzioni utili che eliminano la necessità di riscrivere righe e righe di codice da zero ogni volta che si vuole compiere una determinata azione.\n",
        "\n",
        "La \"[standard library](https://docs.python.org/3/library/)\" è una raccolta di librerie che vengono automaticamente caricate con l'installazione base di Python. Oltre alla libreria standard è possibile installare e importare molte altre librerie, alcune delle quali vengono poi usate come fondamenta per la creazione di altre librerie più specifiche e settoriali.\n",
        "\n",
        "<img src=\"https://drive.google.com/uc?export=view&id=1g7oPOtxWYEoz2hJkQeSvLya_wu7SktjD\" width=\"800\">\n",
        "\n",
        "Per caricare una libreria si usa il comando `import` seguito dal nome della libreria, ad esempio per caricare la libreria `string` (utile per lavorare con le stringhe di testo), basterà scrivere:\n",
        "\n",
        "```\n",
        "import string\n",
        "```\n",
        "\n",
        "Fatto ciò, potremo usare tutte le funzioni e i metodi contenuti in [questa libreria](https://docs.python.org/3/library/string.html)."
      ],
      "metadata": {
        "id": "aP5zxREnoKEO"
      },
      "id": "aP5zxREnoKEO"
    },
    {
      "cell_type": "markdown",
      "source": [
        "---"
      ],
      "metadata": {
        "id": "OQoaTyRfwSwD"
      },
      "id": "OQoaTyRfwSwD"
    },
    {
      "cell_type": "markdown",
      "source": [
        "# Esercizio: Guess the number\n",
        "\n",
        "In questo progettino, vogliamo **creare un programma** che generi un numero casuale compreso tra due interi `a` e `b` e ci permetta di provare a invovinare quel numero dandoci dei suggerimenti a ogni tentativo (del tipo: troppo basso o troppo alto). Nello specifico, il nostro [algoritmo](https://it.wikipedia.org/wiki/Algoritmo) dovrà avere le seguenti caratteristiche:\n",
        "\n",
        "1. chiedere in *input* il *range* di numeri (tra `a` e `b`) che il programma può generare\n",
        "2. stampare a schermo il range dei numeri possibili\n",
        "3. fintantoché l'utente non ha indovinato (*ciclo*):\n",
        "  - chiedere in *input* all'utente un numero\n",
        "  - valutare il numero inserito (*condizionale*):\n",
        "    - se il numero fornito è **troppo alto**: dire che il numero è troppo alto\n",
        "    - se il numero fornito è **troppo basso**: dire che il numero è troppo basso\n",
        "    - se il numero fornito è **corretto**, uscire dal ciclo e congratularsi\n",
        "\n",
        "Per prima cosa carichiamo la libreria `random` e introduciamo la funzione `randint()` (vedi la [documentazione](https://docs.python.org/3/library/random.html#random.randint)) per generare il numero casuale che dovremo andare a stimare:"
      ],
      "metadata": {
        "id": "1qFXRUn7y55t"
      },
      "id": "1qFXRUn7y55t"
    },
    {
      "cell_type": "code",
      "source": [
        "# importiamo la libreria random\n",
        "import random"
      ],
      "metadata": {
        "id": "7vzWeWSo1gv2"
      },
      "id": "7vzWeWSo1gv2",
      "execution_count": null,
      "outputs": []
    },
    {
      "cell_type": "code",
      "source": [
        "random.randint(1, 10)"
      ],
      "metadata": {
        "id": "CmuwvK2H2bFw"
      },
      "id": "CmuwvK2H2bFw",
      "execution_count": null,
      "outputs": []
    },
    {
      "cell_type": "markdown",
      "source": [
        "Come possiamo vedere, questa funzione richiede due parametri `a` e `b` in input e restituisce un numero intero scelto in modo casuale compreso tra `a` e `b` (inclusi)."
      ],
      "metadata": {
        "id": "mX71a4kJ2foc"
      },
      "id": "mX71a4kJ2foc"
    },
    {
      "cell_type": "markdown",
      "source": [
        "A questo punto andiamo ad *assegnare* il numero generato a un nuovo *oggetto*, una variabile che chiameremo `nr_generato`. Facciamo questo per poter fare riferimento a questo numero più avanti.\n",
        "\n",
        "Per poter stampare a schermo gli estremi dei possibili risultati del numero generato, andiamo ad assegnare i due estremi a due variabili `a` e `b` prima di definire la funzione."
      ],
      "metadata": {
        "id": "Rt5A8hFc6HbF"
      },
      "id": "Rt5A8hFc6HbF"
    },
    {
      "cell_type": "code",
      "source": [
        "a = 1\n",
        "b = 10\n",
        "nr_generato = random.randint(a, b)\n",
        "print(f'Il numero generato è contenuto tra {a} e {b}.')"
      ],
      "metadata": {
        "id": "a31flFkh5m0A"
      },
      "id": "a31flFkh5m0A",
      "execution_count": null,
      "outputs": []
    },
    {
      "cell_type": "markdown",
      "source": [
        "Il prossimo step sarà iniziare a indovinare il nostro numero, quindi dovremo usare la funzione `input()` per chiedere all'utente di scegliere un numero (compreso tra `a` e `b`):"
      ],
      "metadata": {
        "id": "aVNHXc2L6cP6"
      },
      "id": "aVNHXc2L6cP6"
    },
    {
      "cell_type": "code",
      "source": [
        "nr_scelto = int(input(f'Scegli ul numero tra {a} e {b}: '))"
      ],
      "metadata": {
        "id": "o_uuHqwV5mwg"
      },
      "id": "o_uuHqwV5mwg",
      "execution_count": null,
      "outputs": []
    },
    {
      "cell_type": "markdown",
      "source": [
        "Ora il programma dovrà fare un confronto per verificare se il numero scelto dall'utente è maggiore o minore di quello generato. Per fare ciò usiamo una **struttura di controllo** if-else:"
      ],
      "metadata": {
        "id": "1cfgQPLj8az6"
      },
      "id": "1cfgQPLj8az6"
    },
    {
      "cell_type": "code",
      "source": [
        "if (nr_scelto > nr_generato):\n",
        "  print('Riprova, numero troppo alto!')\n",
        "elif (nr_scelto < nr_generato):\n",
        "  print('Riprova, numero troppo basso!')\n",
        "else:\n",
        "  print('Congratulazioni, hai indovinato il numero!')"
      ],
      "metadata": {
        "id": "4IKjL2KC5mdJ"
      },
      "id": "4IKjL2KC5mdJ",
      "execution_count": null,
      "outputs": []
    },
    {
      "cell_type": "markdown",
      "source": [
        "A questo punto ci manca solo da implementare la parte iterativa. Per farlo useremo un **ciclo while** all'interno del quale dovremo mettere sia la scelta dell'utente (funzione `input()`) che il confronto con il numero generato (struttura if-else):  "
      ],
      "metadata": {
        "id": "3d1hcCyG9ekb"
      },
      "id": "3d1hcCyG9ekb"
    },
    {
      "cell_type": "code",
      "source": [
        "nr_scelto = 0   # dobbiamo inizializzare nr_scelto per poterlo usare nel ciclo\n",
        "\n",
        "while nr_scelto != nr_generato:\n",
        "  # chiediamo all'utente di scegliere un numero\n",
        "  nr_scelto = int(input(f'Scegli un numero tra {a} e {b}: '))\n",
        "\n",
        "  # facciamo il confronto tra il numero scelto dall'utente e il numero generato\n",
        "  if (nr_scelto > nr_generato):\n",
        "    print('Riprova, numero troppo alto!')\n",
        "  elif (nr_scelto < nr_generato):\n",
        "    print('Riprova, numero troppo basso!')\n",
        "\n",
        "# questo print (che prima era nella clausola else) può essere messo fuori dal ciclo\n",
        "# perché se il programma è uscito dal ciclo while, vuol dire che nr_scelto == nr_generato\n",
        "# e quindi l'utente ha indovinato il numero\n",
        "else:\n",
        "  print('Congratulazioni, hai indovinato il numero!')"
      ],
      "metadata": {
        "id": "UCsuXX1_9fBi"
      },
      "id": "UCsuXX1_9fBi",
      "execution_count": null,
      "outputs": []
    },
    {
      "cell_type": "markdown",
      "source": [
        "Ci siamo! 🎉 Abbiamo creato un programma che, dato un numero generato casualmente, ci permette di provare a indovinarlo e ci dà dei suggerimenti per arrivare più velocemente alla soluzione.\n",
        "\n",
        "L'ultima cosa che ci rimane da fare è racchiudere tutto in una funzione che chieda in input i due estremi `a` e `b` e permetta di continuare il gioco fino a quando l'utente non abbia indovinato il numero."
      ],
      "metadata": {
        "id": "PZW-bP9D_RbF"
      },
      "id": "PZW-bP9D_RbF"
    },
    {
      "cell_type": "code",
      "source": [
        "# definizione della funzione\n",
        "def guess(min, max):\n",
        "\n",
        "  a = min\n",
        "  b = max\n",
        "  nr_generato = random.randint(a, b)\n",
        "\n",
        "  nr_scelto = 0   # dobbiamo inizializzare nr_scelto per poterlo usare nel ciclo\n",
        "\n",
        "  while nr_scelto != nr_generato:\n",
        "    # chiediamo all'utente di scegliere un numero\n",
        "    nr_scelto = int(input(f'Scegli un numero tra {a} e {b}: '))\n",
        "\n",
        "    # facciamo il confronto tra il numero scelto dall'utente e il numero generato\n",
        "    if (nr_scelto > nr_generato):\n",
        "      print('Riprova, numero troppo alto!')\n",
        "    elif (nr_scelto < nr_generato):\n",
        "      print('Riprova, numero troppo basso!')\n",
        "\n",
        "  # questo print (che prima era nella clausola else) può essere messo fuori dal ciclo\n",
        "  # perché se il programma è uscito dal ciclo while, vuol dire che nr_scelto == nr_generato\n",
        "  # e quindi l'utente ha indovinato il numero\n",
        "  else:\n",
        "    print('Congratulazioni, hai indovinato il numero!')"
      ],
      "metadata": {
        "id": "JjpFY3dQTXf1"
      },
      "id": "JjpFY3dQTXf1",
      "execution_count": null,
      "outputs": []
    },
    {
      "cell_type": "code",
      "source": [
        "# chiamata della funzione\n",
        "guess(1, 100)"
      ],
      "metadata": {
        "id": "0PmtJPFMTz05"
      },
      "id": "0PmtJPFMTz05",
      "execution_count": null,
      "outputs": []
    },
    {
      "cell_type": "markdown",
      "source": [
        "---"
      ],
      "metadata": {
        "id": "58k89Jt1y9rG"
      },
      "id": "58k89Jt1y9rG"
    },
    {
      "cell_type": "markdown",
      "source": [
        "# Esercizio per casa\n",
        "\n",
        "*Nota: nella programmazione in generale, e quindi anche in questo esercizio, ci sono diverse strade che possono essere percorse per arrivare allo stesso risultato, alcune più lunghe e tortuose, altre più corte ed eleganti.*\n"
      ],
      "metadata": {
        "id": "3tIoZLIKogiL"
      },
      "id": "3tIoZLIKogiL"
    },
    {
      "cell_type": "markdown",
      "source": [
        "## Versione semplice\n",
        "\n",
        "Scrivi una nuova funzione `guess2()` che permetta di giocare a *Guess the number* ma questa volta, invece di ricevere come feedback \"numero troppo basso\" o \"numero troppo alto\", l'utente riceverà come feedback i seguenti indizi:\n",
        "- se il valore assoluto di `nr_scelto - nr_generato` è minore di 3  >>>  `Fuoco!`\n",
        "- se invece il valore assoluto di `nr_scelto - nr_generato` è compreso tra 3 e 5 (inclusi)   >>> `Fuochino!`\n",
        "- se invece il valore assoluto di `nr_scelto - nr_generato` è compreso tra 6 e 10 (inclusi)   >>> `Acqua!`\n",
        "- altrimenti   >>>   `Oceano!`\n",
        "\n",
        "\n",
        "\n",
        "*Suggerimento: in Python puoi calcolare il valore assoluto di un valore `x` col la funzione `abs(x)`.*\n"
      ],
      "metadata": {
        "id": "pWgP-S2ghlBt"
      },
      "id": "pWgP-S2ghlBt"
    },
    {
      "cell_type": "code",
      "source": [
        "# definizione della funzione\n",
        "def guess2(min, max):\n",
        "  pass # elimina questa riga\n",
        "\n",
        "  # scrivi qui il tuo codice\n",
        "  # scrivi qui il tuo codice\n",
        "  # scrivi qui il tuo codice"
      ],
      "metadata": {
        "id": "6LTeu8eMoYat"
      },
      "id": "6LTeu8eMoYat",
      "execution_count": null,
      "outputs": []
    },
    {
      "cell_type": "code",
      "source": [
        "# chiamata della funzione\n",
        "guess2(1, 100)"
      ],
      "metadata": {
        "id": "zLlQZ3OMY45e"
      },
      "id": "zLlQZ3OMY45e",
      "execution_count": null,
      "outputs": []
    },
    {
      "cell_type": "markdown",
      "source": [
        "## Versione avanzata\n",
        "\n",
        "Quest'ultima versione del gioco è sicuramente più difficile, soprattutto se la distanza tra `a` e `b` è molto elevata. Se invece la distanza tra `a` e `b` è molto bassa il gioco finisce subito. Sarebbe bello avere delle regole più dinamiche che si adattino alla distanza tra `a` e `b`.\n",
        "\n",
        "Scrivi una nuova funzione `guess3()` dove gli indizi non sono legati alla *distanza assoluta* (come nell'esercizio semplice) tra `nr_scelto` e `nr_generato` ma alla *distanza relativa* (cioè in termini percentuali rispetto alla distanza tra `a` e `b`):\n",
        "- se il valore assoluto di `nr_scelto - nr_generato` diviso `b - a` è minore del 3%  >>>  `Fuoco!`\n",
        "- se il valore assoluto di `nr_scelto - nr_generato` diviso `b - a` è compreso tra il 3% e il 5% (inclusi)   >>> `Fuochino!`\n",
        "- se il valore assoluto di `nr_scelto - nr_generato` diviso `b - a` è compreso tra il 6% e il 10% (inclusi)   >>> `Acqua!`\n",
        "- altrimenti   >>>   `Oceano!`"
      ],
      "metadata": {
        "id": "ZNLPhyQgFx-x"
      },
      "id": "ZNLPhyQgFx-x"
    },
    {
      "cell_type": "code",
      "source": [
        "# definizione della funzione\n",
        "def guess3(min, max):\n",
        "  pass  # elimina questa riga\n",
        "\n",
        "  # scrivi qui il tuo codice\n",
        "  # scrivi qui il tuo codice\n",
        "  # scrivi qui il tuo codice"
      ],
      "metadata": {
        "id": "p32iDhf4V9OR"
      },
      "id": "p32iDhf4V9OR",
      "execution_count": null,
      "outputs": []
    },
    {
      "cell_type": "code",
      "source": [
        "# chiamata della funzione\n",
        "guess3(1, 100)"
      ],
      "metadata": {
        "id": "JaYvxlCAfJn5"
      },
      "id": "JaYvxlCAfJn5",
      "execution_count": null,
      "outputs": []
    }
  ],
  "metadata": {
    "kernelspec": {
      "display_name": "Python 3 (ipykernel)",
      "language": "python",
      "name": "python3"
    },
    "language_info": {
      "codemirror_mode": {
        "name": "ipython",
        "version": 3
      },
      "file_extension": ".py",
      "mimetype": "text/x-python",
      "name": "python",
      "nbconvert_exporter": "python",
      "pygments_lexer": "ipython3",
      "version": "3.9.7"
    },
    "toc-autonumbering": false,
    "toc-showcode": false,
    "toc-showmarkdowntxt": false,
    "colab": {
      "provenance": [],
      "toc_visible": true,
      "include_colab_link": true
    }
  },
  "nbformat": 4,
  "nbformat_minor": 5
}